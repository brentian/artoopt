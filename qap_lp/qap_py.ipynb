{
 "cells": [
  {
   "cell_type": "code",
   "execution_count": 1,
   "metadata": {},
   "outputs": [],
   "source": [
    "%load_ext autoreload\n",
    "%autoreload 2"
   ]
  },
  {
   "cell_type": "markdown",
   "metadata": {},
   "source": [
    "$$\\begin{aligned}\n",
    "&\\min_X f(X) = \\textrm{tr}(A^\\top XB X^\\top)  \\\\\n",
    "& = \\textrm{tr}(X^\\top A^\\top XB) & x = \\textrm{vec}(X)\\\\\n",
    "& = \\left <\\textrm{vec}(X),  \\textrm{vec}(A^\\top X B )  \\right > \\\\\n",
    "& = \\left <\\textrm{vec}(X), B^\\top \\otimes A^\\top \\cdot \\textrm{vec}(X)  \\right > \\\\ \n",
    "& = x^\\top (B^\\top \\otimes A^\\top) x\\\\ \n",
    "& = \\left<AX, XB\\right> \\\\\n",
    "\\mathbf{s.t.} & \\\\ \n",
    "&X \\in \\Pi_{n}\n",
    "\\end{aligned}$$"
   ]
  },
  {
   "cell_type": "markdown",
   "metadata": {},
   "source": [
    "## gd\n"
   ]
  },
  {
   "cell_type": "code",
   "execution_count": 12,
   "metadata": {},
   "outputs": [],
   "source": [
    "nabla = QAPDerivative(A,B,n,m,e,E,ab)"
   ]
  },
  {
   "cell_type": "code",
   "execution_count": 16,
   "metadata": {},
   "outputs": [],
   "source": [
    "x0 = np.eye(n)"
   ]
  }
 ],
 "metadata": {
  "kernelspec": {
   "display_name": "Python 3",
   "language": "python",
   "name": "python3"
  },
  "language_info": {
   "codemirror_mode": {
    "name": "ipython",
    "version": 3
   },
   "file_extension": ".py",
   "mimetype": "text/x-python",
   "name": "python",
   "nbconvert_exporter": "python",
   "pygments_lexer": "ipython3",
   "version": "3.7.3"
  }
 },
 "nbformat": 4,
 "nbformat_minor": 4
}
