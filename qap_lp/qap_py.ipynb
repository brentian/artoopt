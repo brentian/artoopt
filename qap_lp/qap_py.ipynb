{
 "cells": [
  {
   "cell_type": "code",
   "execution_count": 1,
   "metadata": {},
   "outputs": [],
   "source": [
    "%load_ext autoreload\n",
    "%autoreload 2"
   ]
  },
  {
   "cell_type": "code",
   "execution_count": 10,
   "metadata": {},
   "outputs": [
    {
     "data": {
      "text/plain": [
       "(13.42935979608503, 17.187692098294942)"
      ]
     },
     "execution_count": 10,
     "metadata": {},
     "output_type": "execute_result"
    }
   ],
   "source": [
    "from qap_lp.models import *\n",
    "from qap_lp.conf import *\n",
    "\n",
    "# instance_name = 'esc16h' ill conditions\n",
    "instance_name = 'bur26a'\n",
    "\n",
    "kwargs = {}\n",
    "msk_params = {**MSK_DEFAULT, **kwargs}\n",
    "qap_params = {**QAP_DEFAULT, **kwargs}\n",
    "\n",
    "#\n",
    "qap_params['scaling'] = 'l1'\n",
    "qap_params['mu'] = 0.1\n",
    "# coefficients\n",
    "A0, B0 = parse(f'{QAP_INSTANCE}/{instance_name}.dat')\n",
    "\n",
    "# parse known solution\n",
    "_, best_obj, arr = parse_sol(f'{QAP_SOL}/{instance_name}.sln')\n",
    "\n",
    "param = QAPParam(A0, B0, best_obj, arr, **qap_params)\n",
    "\n",
    "# unpacking\n",
    "A, B, n, m, e, E, ab = \\\n",
    "    param.A, param.B, param.n, param.m, param.e, param.E, param.ab\n",
    "# more\n",
    "nabla = QAPDerivativeL2Penalty(param, qap_params['mu'])\n",
    "x = x0 = np.ones((n, n)) / n\n",
    "nabla.obj(param.xo), nabla.obj(x)"
   ]
  },
  {
   "cell_type": "code",
   "execution_count": 3,
   "metadata": {},
   "outputs": [],
   "source": [
    "u, ga, v = np.linalg.svd(param.ab)"
   ]
  },
  {
   "cell_type": "markdown",
   "metadata": {},
   "source": [
    "#### gradient projection\n",
    "\n",
    "- projection may be computed by mosek\n",
    "- or some other methods"
   ]
  },
  {
   "cell_type": "markdown",
   "metadata": {},
   "source": [
    "#### project point onto $D_n$\n",
    "\n",
    "- projection may be computed by mosek\n",
    "- or some other methods"
   ]
  },
  {
   "cell_type": "markdown",
   "metadata": {},
   "source": [
    "# eval"
   ]
  },
  {
   "cell_type": "code",
   "execution_count": null,
   "metadata": {},
   "outputs": [],
   "source": [
    "x_int, _ = extract_sol_rounding(x, param.A, param.B)"
   ]
  },
  {
   "cell_type": "code",
   "execution_count": null,
   "metadata": {},
   "outputs": [],
   "source": [
    "def check_obj_val(x_sol):\n",
    "    _obj = A0.T.dot(x_sol).dot(B0).dot(x_sol.T).trace()\n",
    "    print(f'original obj {_obj}')\n",
    "    return _obj"
   ]
  },
  {
   "cell_type": "code",
   "execution_count": null,
   "metadata": {},
   "outputs": [],
   "source": [
    "check_obj_val(x)"
   ]
  },
  {
   "cell_type": "code",
   "execution_count": null,
   "metadata": {},
   "outputs": [],
   "source": [
    "nabla.original_obj(xol), nabla.obj(xol, mu)"
   ]
  }
 ],
 "metadata": {
  "kernelspec": {
   "display_name": "Python 3",
   "language": "python",
   "name": "python3"
  },
  "language_info": {
   "codemirror_mode": {
    "name": "ipython",
    "version": 3
   },
   "file_extension": ".py",
   "mimetype": "text/x-python",
   "name": "python",
   "nbconvert_exporter": "python",
   "pygments_lexer": "ipython3",
   "version": "3.7.3"
  }
 },
 "nbformat": 4,
 "nbformat_minor": 4
}
