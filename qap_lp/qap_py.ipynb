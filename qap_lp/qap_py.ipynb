{
 "cells": [
  {
   "cell_type": "code",
   "execution_count": 1,
   "metadata": {},
   "outputs": [],
   "source": [
    "%load_ext autoreload\n",
    "%autoreload 2"
   ]
  },
  {
   "cell_type": "markdown",
   "metadata": {},
   "source": [
    "$$\\begin{aligned}\n",
    "&\\min_X f(X) = \\textrm{tr}(A^\\top XB X^\\top)  \\\\\n",
    "& = \\textrm{tr}(X^\\top A^\\top XB) & x = \\textrm{vec}(X)\\\\\n",
    "& = \\left <\\textrm{vec}(X),  \\textrm{vec}(A^\\top X B )  \\right > \\\\\n",
    "& = \\left <\\textrm{vec}(X), B^\\top \\otimes A^\\top \\cdot \\textrm{vec}(X)  \\right > \\\\ \n",
    "& = x^\\top (B^\\top \\otimes A^\\top) x\\\\ \n",
    "& = \\left<AX, XB\\right> \\\\\n",
    "\\mathbf{s.t.} & \\\\ \n",
    "&X \\in \\Pi_{n}\n",
    "\\end{aligned}$$"
   ]
  },
  {
   "cell_type": "code",
   "execution_count": 2,
   "metadata": {},
   "outputs": [],
   "source": [
    "from qap_lp.models import *"
   ]
  },
  {
   "cell_type": "code",
   "execution_count": 3,
   "metadata": {},
   "outputs": [],
   "source": [
    "instance_name = 'chr12a'\n",
    "\n",
    "A0, B0 = parse(f'qapdata/{instance_name}.dat')\n",
    "A = A0 / np.linalg.norm(A0)\n",
    "B = B0 / np.linalg.norm(B0)\n",
    "n, m = A.shape\n",
    "e = np.ones(shape=n)\n",
    "E = np.ones(shape=(n, n))\n",
    "ab = np.kron(B.T, A.T)\n",
    "\n",
    "param = QAPParam(A, B, n, m, e, E, ab)\n",
    "nablaf = QAPDerivative(param)"
   ]
  },
  {
   "cell_type": "code",
   "execution_count": 4,
   "metadata": {},
   "outputs": [],
   "source": [
    "# x0\n",
    "x0 = np.eye(n)"
   ]
  },
  {
   "cell_type": "markdown",
   "metadata": {},
   "source": [
    "## projected gradient\n",
    "\n",
    "working on problem:\n",
    "### exact penalty\n",
    "\n",
    "$$\\begin{aligned}\n",
    "F_{\\mu} & =  f  + \\mu\\cdot | \\textrm{tr}(XX^T) -  n| \\\\\n",
    " &= f  + \\mu\\cdot n - \\mu\\cdot \\textrm{tr}(XX^T)\n",
    "\\end{aligned}$$\n",
    "\n",
    "very likely to become a concave function, cannot be directly solved by conic solver.\n",
    "\n",
    "#### derivatives\n",
    "\n",
    "$$\\begin{aligned}\n",
    "\\nabla F_\\mu  = A^TXB + AXB^T - 2\\mu X\n",
    "\\end{aligned}$$"
   ]
  },
  {
   "cell_type": "code",
   "execution_count": 5,
   "metadata": {},
   "outputs": [],
   "source": [
    "nabla = QAPDerivativeL2Penalty(param)"
   ]
  },
  {
   "cell_type": "code",
   "execution_count": 6,
   "metadata": {},
   "outputs": [
    {
     "data": {
      "text/plain": [
       "array([[-1.91271179e+00,  6.82274403e-02,  9.44580824e-02,\n",
       "         9.28928276e-02,  1.30509437e-01,  1.16359028e-01,\n",
       "         5.74726245e-02,  1.24298909e-01,  1.00466641e-01,\n",
       "         8.03076734e-02,  1.19022486e-01,  1.14781150e-01],\n",
       "       [ 7.99794748e-02, -1.89467349e+00,  1.69098018e-01,\n",
       "         4.28677867e-02,  1.38121120e-01,  8.17971902e-02,\n",
       "         1.16863949e-01,  9.97218831e-02,  1.31961084e-01,\n",
       "         7.92978316e-02,  5.22593159e-02,  1.45694933e-01],\n",
       "       [ 9.82071203e-03,  3.01437793e-02, -1.96081814e+00,\n",
       "         2.64578566e-02,  1.49456594e-02,  5.17039029e-02,\n",
       "         1.78994469e-02,  3.15323119e-02,  3.03457477e-02,\n",
       "         8.17971902e-03,  2.72152380e-02,  4.02926900e-02],\n",
       "       [ 0.00000000e+00,  1.04518632e-02,  1.56777948e-02,\n",
       "        -1.99245143e+00,  1.71294424e-02,  2.09037264e-02,\n",
       "         2.61296580e-03,  9.87120412e-03,  2.29360331e-02,\n",
       "         4.93560206e-03,  1.33551585e-02,  2.75813056e-02],\n",
       "       [ 0.00000000e+00,  1.95404399e-02,  2.93106598e-02,\n",
       "         1.41125399e-02, -1.96797539e+00,  3.90808798e-02,\n",
       "         4.88510997e-03,  1.84548599e-02,  4.28804097e-02,\n",
       "         9.22742994e-03,  2.49683398e-02,  5.15650497e-02],\n",
       "       [ 4.09869563e-02,  4.41805811e-04,  8.19612895e-02,\n",
       "         3.93459632e-02,  1.00933693e-01, -1.93509241e+00,\n",
       "         3.37665870e-02,  8.71998441e-02,  3.88789114e-02,\n",
       "         4.96842192e-02,  8.82475550e-02,  4.04062972e-02],\n",
       "       [ 1.77227245e-02,  2.39584980e-02,  0.00000000e+00,\n",
       "         6.89217065e-03,  3.28198603e-03,  3.18352645e-02,\n",
       "        -1.98096448e+00,  2.16611078e-02,  2.26457036e-02,\n",
       "         2.00201148e-02,  1.77227245e-02,  2.06765120e-02],\n",
       "       [ 3.15070658e-02,  6.80633410e-02,  7.39204237e-02,\n",
       "         6.24082266e-02,  2.14086473e-02,  8.50286841e-02,\n",
       "         2.50440780e-02, -1.97212836e+00,  9.14916720e-02,\n",
       "         1.23200706e-02,  9.57330078e-02,  1.16939687e-01],\n",
       "       [ 1.77479706e-02,  2.96514814e-02,  2.09920875e-02,\n",
       "         2.50440780e-02,  2.63821184e-03,  0.00000000e+00,\n",
       "         2.17115999e-02,  6.18528136e-03, -1.98524369e+00,\n",
       "         2.63063803e-02,  0.00000000e+00,  7.01840089e-03],\n",
       "       [ 8.55714741e-02,  1.11335064e-01,  1.09403742e-01,\n",
       "         8.81718169e-02,  7.06384377e-02,  8.25293255e-02,\n",
       "         1.17861167e-01,  3.73641486e-02,  6.87323612e-02,\n",
       "        -1.94529182e+00,  2.65840868e-02,  9.69448180e-02],\n",
       "       [ 2.89193461e-02,  1.28123685e-02,  2.52586694e-02,\n",
       "         1.35445039e-02,  2.78211431e-02,  1.39105715e-02,\n",
       "         1.28123685e-02,  1.61069776e-02,  0.00000000e+00,\n",
       "         2.34283310e-02, -1.98572336e+00,  1.20802332e-02],\n",
       "       [ 7.93988158e-03,  2.05502817e-02,  2.84901633e-02,\n",
       "         2.24184892e-02,  7.47282972e-03,  2.52208003e-02,\n",
       "         5.13757043e-03,  5.60462229e-03,  2.98913189e-02,\n",
       "         0.00000000e+00,  3.26936300e-02, -1.95983354e+00]])"
      ]
     },
     "execution_count": 6,
     "metadata": {},
     "output_type": "execute_result"
    }
   ],
   "source": [
    "nabla.partial_f(x0, 1)"
   ]
  }
 ],
 "metadata": {
  "kernelspec": {
   "display_name": "Python 3",
   "language": "python",
   "name": "python3"
  },
  "language_info": {
   "codemirror_mode": {
    "name": "ipython",
    "version": 3
   },
   "file_extension": ".py",
   "mimetype": "text/x-python",
   "name": "python",
   "nbconvert_exporter": "python",
   "pygments_lexer": "ipython3",
   "version": "3.7.3"
  }
 },
 "nbformat": 4,
 "nbformat_minor": 4
}
