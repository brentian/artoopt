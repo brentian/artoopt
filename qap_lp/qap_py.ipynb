{
 "cells": [
  {
   "cell_type": "code",
   "execution_count": 1,
   "metadata": {},
   "outputs": [],
   "source": [
    "%load_ext autoreload\n",
    "%autoreload 2"
   ]
  },
  {
   "cell_type": "markdown",
   "metadata": {},
   "source": [
    "$$\\begin{aligned}\n",
    "&\\min_X f(X) = \\textrm{tr}(A^\\top XB X^\\top)  \\\\\n",
    "& = \\textrm{tr}(X^\\top A^\\top XB) & x = \\textrm{vec}(X)\\\\\n",
    "& = \\left <\\textrm{vec}(X),  \\textrm{vec}(A^\\top X B )  \\right > \\\\\n",
    "& = \\left <\\textrm{vec}(X), B^\\top \\otimes A^\\top \\cdot \\textrm{vec}(X)  \\right > \\\\ \n",
    "& = x^\\top (B^\\top \\otimes A^\\top) x\\\\ \n",
    "& = \\left<AX, XB\\right> \\\\\n",
    "\\mathbf{s.t.} & \\\\ \n",
    "&X \\in \\Pi_{n}\n",
    "\\end{aligned}$$"
   ]
  },
  {
   "cell_type": "code",
   "execution_count": 2,
   "metadata": {},
   "outputs": [],
   "source": [
    "from qap_lp.models import *"
   ]
  },
  {
   "cell_type": "code",
   "execution_count": 3,
   "metadata": {},
   "outputs": [],
   "source": [
    "instance_name = 'chr12a'\n",
    "\n",
    "A0, B0 = parse(f'qapdata/{instance_name}.dat')\n",
    "A = A0 / np.linalg.norm(A0)\n",
    "B = B0 / np.linalg.norm(B0)\n",
    "n, m = A.shape\n",
    "e = np.ones(shape=(n, 1))\n",
    "E = np.ones(shape=(n, n))\n",
    "ab = np.kron(B.T, A.T)\n",
    "\n",
    "param = QAPParam(A, B, n, m, e, E, ab)"
   ]
  },
  {
   "cell_type": "markdown",
   "metadata": {},
   "source": [
    "## projection methods\n",
    "\n",
    "working on problem:\n",
    "### exact penalty\n",
    "\n",
    "$$\\begin{aligned}\n",
    " &\\min_X f  + \\mu\\cdot | \\textrm{tr}(XX^\\top) -  n| \\\\\n",
    " &= f  + \\mu\\cdot n - \\mu\\cdot \\textrm{tr}(XX^\\top)  \\\\\n",
    "\\mathbf{s.t.} & \\\\\n",
    "&Xe = X^\\top e = e \\\\\n",
    "&X \\ge 0 \\\\\n",
    "\\end{aligned}$$\n",
    "\n",
    "or\n",
    "\n",
    "$$\\begin{aligned}\n",
    "& \\min_X  f  + \\mu\\cdot n - \\mu\\cdot \\textrm{tr}(XX^\\top) - \\Lambda \\bullet X \\\\\n",
    "\\mathbf{s.t.} & \\\\\n",
    "&Xe = X^\\top e = e \\\\\n",
    "\\end{aligned}$$\n",
    "\n",
    "\n",
    "very likely to become a concave function, cannot be directly solved by conic solver.\n",
    "\n"
   ]
  },
  {
   "cell_type": "markdown",
   "metadata": {},
   "source": [
    "#### project point onto $D_n$\n",
    "\n",
    "- projection may be computed by mosek\n",
    "- or some other methods"
   ]
  },
  {
   "cell_type": "markdown",
   "metadata": {},
   "source": [
    "#### derivatives\n",
    "\n",
    "$$\\begin{aligned}\n",
    "& \\nabla_X F_\\mu  = A^\\top XB + AXB^\\top - 2\\mu X \\quad (-\\Lambda)\\\\\n",
    "& \\nabla_\\mu F_\\mu  = n - \\textrm{tr}(XX^\\top) \\\\\n",
    "& \\nabla_\\Lambda F_\\mu  = - X\n",
    "\\end{aligned}$$\n",
    "\n",
    "#### projected derivative\n",
    "\n",
    "$$\\begin{aligned}\n",
    "&\\min_D ||\\nabla F_\\mu - D ||_F^2  \\\\\n",
    "\\mathbf{s.t.} & \\\\\n",
    "&D e = D^\\top e = 0 \\\\\n",
    "\\end{aligned}$$\n"
   ]
  },
  {
   "cell_type": "code",
   "execution_count": 73,
   "metadata": {},
   "outputs": [
    {
     "data": {
      "text/plain": [
       "(1100.2610504307938, 0.2610504307937287)"
      ]
     },
     "execution_count": 73,
     "metadata": {},
     "output_type": "execute_result"
    }
   ],
   "source": [
    "nabla = QAPDerivativeL2Penalty(param)\n",
    "\n",
    "perm = (7,5,12,2,1,3,9,11,10,6,8,4)\n",
    "xol = np.zeros((n, n))\n",
    "for idx, v in enumerate(perm):\n",
    "    xol[idx, v-1]=1\n",
    "\n",
    "def gt_min(x):\n",
    "    return x[x >= -1e-4].min()\n",
    "\n",
    "# initialize: x0 = [1]/n\n",
    "x = x0 = np.ones((n, n)) / n\n",
    "mu = 100\n",
    "alpha = alpha0 = 0.1\n",
    "nabla.obj(x, mu), nabla.original_obj(x)"
   ]
  },
  {
   "cell_type": "code",
   "execution_count": null,
   "metadata": {},
   "outputs": [],
   "source": [
    "def proj_on_dn(param, x, **kwargs):\n",
    "    A, B, n, m, e, E, ab = param.A, param.B, param.n, param.m, param.e, param.E, param.ab\n",
    "    \n",
    "    model = mf.Model('projected_on_Dn')\n",
    "    D = model.variable(\"d\", [*A.shape], dom.inRange(0, 1))\n",
    "    v = model.variable(1, dom.greaterThan(0.0))\n",
    "    \n",
    "    # m = vec(D - dF)\n",
    "    m = expr.flatten(expr.sub(D, x))\n",
    "    model.constraint(expr.sum(D, 0), dom.equalsTo(1))\n",
    "    model.constraint(expr.sum(D, 1), dom.equalsTo(1))\n",
    "    model.constraint(expr.vstack(v, m), dom.inQCone())\n",
    "    model.objective(mf.ObjectiveSense.Minimize, v)\n",
    "\n",
    "    # set params\n",
    "    userCallback = set_mosek_model_params(model, **kwargs)\n",
    "    model.setLogHandler(None)\n",
    "    model.solve()\n",
    "\n",
    "    model.flushSolutions()\n",
    "    D_sol = D.level().reshape(A.shape)\n",
    "    return D_sol"
   ]
  },
  {
   "cell_type": "code",
   "execution_count": null,
   "metadata": {
    "scrolled": true
   },
   "outputs": [],
   "source": [
    "def point_proj_naive():\n",
    "    # point projection\n",
    "    # - stuck at an corner point, vertex.\n",
    "    # - once reached, it stays.\n",
    "    for i in range(5):\n",
    "        obj = nabla.obj(x, mu)\n",
    "        print(f'====={i }====')\n",
    "        alpha = 1/(i+1)\n",
    "        d0 = nabla.partial_f(x, mu)\n",
    "        x0 = x - d0 * alpha0\n",
    "        xp = proj_on_dn(param, x0)\n",
    "    #     # direction\n",
    "    #     dx = xp - x\n",
    "    #     st = gt_min(x/dx)\n",
    "    #     print(f\"stepsize: \", alpha, st)\n",
    "    #     x -=  st * alpha * dx\n",
    "        x = xp\n",
    "        print(f\"obj: \", nabla.original_obj(x), nabla.obj(x, mu), nabla.obj(x, mu) - obj)\n",
    "        print(f\"stopping: \", n - x.dot(x.T).trace())\n",
    "        print(x.round(3).min())\n",
    "        print(np.linalg.norm(d0))"
   ]
  },
  {
   "cell_type": "markdown",
   "metadata": {},
   "source": [
    "#### gradient projection\n",
    "\n",
    "- projection may be computed by mosek\n",
    "- or some other methods"
   ]
  },
  {
   "cell_type": "code",
   "execution_count": 5,
   "metadata": {},
   "outputs": [],
   "source": [
    "# dF = x\n",
    "def pd_on_dc(param, dF, **kwargs):\n",
    "\n",
    "    A, B, n, m, e, E, ab = param.A, param.B, param.n, param.m, param.e, param.E, param.ab\n",
    "\n",
    "    model = mf.Model('projected_gradient_on_D_cone')\n",
    "    D = model.variable(\"d\", [*A.shape], dom.unbounded())\n",
    "    v = model.variable(1, dom.greaterThan(0))\n",
    "\n",
    "    # m = vec(D - dF)\n",
    "    m = expr.flatten(expr.sub(D, dF))\n",
    "    model.constraint(expr.sum(D, 0), dom.equalsTo(0))\n",
    "    model.constraint(expr.sum(D, 1), dom.equalsTo(0))\n",
    "    model.constraint(expr.vstack(v, m), dom.inQCone())\n",
    "    # model.constraint(expr.sub(), dom.greaterThan(0))\n",
    "    model.objective(mf.ObjectiveSense.Minimize, v)\n",
    "\n",
    "    # set params\n",
    "    userCallback = set_mosek_model_params(model, **kwargs)\n",
    "    model.setLogHandler(None)\n",
    "    model.solve()\n",
    "\n",
    "    model.flushSolutions()\n",
    "    D_sol = D.level().reshape(A.shape)\n",
    "    return D_sol"
   ]
  },
  {
   "cell_type": "code",
   "execution_count": 52,
   "metadata": {
    "scrolled": true
   },
   "outputs": [],
   "source": [
    "def st(dp, x):\n",
    "    model = mf.Model('step_size')\n",
    "    v = model.variable(1, dom.greaterThan(0))\n",
    "    V = expr.reshape(expr.repeat(v, n*n, 0), [n, n])\n",
    "    delta = expr.mulElm(V, dp)\n",
    "    model.constraint(expr.sub(x, delta), dom.greaterThan(0))\n",
    "    model.objective(mf.ObjectiveSense.Maximize, v)\n",
    "#     model.setLogHandler(sys.stdout)\n",
    "    try:\n",
    "        model.solve()\n",
    "        return v.level()[0]\n",
    "    except:\n",
    "        return 0"
   ]
  },
  {
   "cell_type": "code",
   "execution_count": 74,
   "metadata": {
    "scrolled": true
   },
   "outputs": [
    {
     "name": "stdout",
     "output_type": "stream",
     "text": [
      "=====0====\n",
      "norm: 0.040302978366816275\n",
      "obj:  1100.1833861271564 1100.2610504307938\n",
      "stopping:  10.999234626342345\n",
      "0.076\n",
      "=====1====\n",
      "norm: 5.574198898752168\n",
      "obj:  1100.0057859437654 1100.1833861271564\n",
      "stopping:  10.99746803073209\n",
      "0.07\n",
      "=====2====\n",
      "norm: 10.105586686953613\n",
      "obj:  1099.7813523977552 1100.0057859437654\n",
      "stopping:  10.995231595980718\n",
      "0.065\n",
      "=====3====\n",
      "norm: 13.853171480013962\n",
      "obj:  1099.5403689094492 1099.7813523977552\n",
      "stopping:  10.992828437255374\n",
      "0.06\n",
      "=====4====\n",
      "norm: 16.979954625384092\n",
      "obj:  1099.299888988299 1099.5403689094492\n",
      "stopping:  10.990429311500833\n",
      "0.057\n",
      "=====5====\n",
      "norm: 19.609332083915273\n",
      "obj:  1099.0692150813766 1099.299888988299\n",
      "stopping:  10.988127419310093\n",
      "0.054\n",
      "=====6====\n",
      "norm: 21.835977961476065\n",
      "obj:  1098.853085515799 1099.0692150813766\n",
      "stopping:  10.985970284632911\n",
      "0.051\n",
      "=====7====\n",
      "norm: 23.733421923184444\n",
      "obj:  1098.6535549563994 1098.853085515799\n",
      "stopping:  10.983978567224034\n",
      "0.049\n",
      "=====8====\n",
      "norm: 25.359417521898866\n",
      "obj:  1098.471116242286 1098.6535549563994\n",
      "stopping:  10.982157287026407\n",
      "0.047\n",
      "=====9====\n",
      "norm: 26.759801735649724\n",
      "obj:  1098.3053746969817 1098.471116242286\n",
      "stopping:  10.980502571879978\n",
      "0.045\n",
      "=====10====\n",
      "norm: 27.97130684660947\n",
      "obj:  1098.155454864739 1098.3053746969817\n",
      "stopping:  10.979005728424557\n",
      "0.044\n",
      "=====11====\n",
      "norm: 29.02363428753433\n",
      "obj:  1098.0202454894886 1098.155454864739\n",
      "stopping:  10.977655694621312\n",
      "0.043\n",
      "=====12====\n",
      "norm: 29.941001694620578\n",
      "obj:  1097.8985458667853 1098.0202454894886\n",
      "stopping:  10.976440505392125\n",
      "0.042\n",
      "=====13====\n",
      "norm: 30.743309342050164\n",
      "obj:  1097.7891517109904 1097.8985458667853\n",
      "stopping:  10.97534815294592\n",
      "0.041\n",
      "=====14====\n",
      "norm: 31.44702843535594\n",
      "obj:  1097.6909038322278 1097.7891517109904\n",
      "stopping:  10.974367074847263\n",
      "0.04\n",
      "=====15====\n",
      "norm: 32.06588397981214\n",
      "obj:  1097.6027139766204 1097.6909038322278\n",
      "stopping:  10.973486413444924\n",
      "0.039\n",
      "=====16====\n",
      "norm: 32.61138440863085\n",
      "obj:  1097.5235767349006 1097.6027139766204\n",
      "stopping:  10.972696135773633\n",
      "0.039\n",
      "=====17====\n",
      "norm: 33.093235820679986\n",
      "obj:  1097.452573069779 1097.5235767349006\n",
      "stopping:  10.971987069479995\n",
      "0.038\n",
      "=====18====\n",
      "norm: 33.51966855541581\n",
      "obj:  1097.3888689284515 1097.452573069779\n",
      "stopping:  10.97135088947222\n",
      "0.037\n",
      "=====19====\n",
      "norm: 33.89769660948976\n",
      "obj:  1097.3317111025221 1097.3888689284515\n",
      "stopping:  10.970780076943909\n",
      "0.037\n"
     ]
    }
   ],
   "source": [
    "L = np.ones((n, n))\n",
    "alpha = 0.1\n",
    "# gradient projection, not good for now\n",
    "for i in range(20):\n",
    "    print(f'====={i }====')\n",
    "    obj = nabla.obj(x, mu)\n",
    "    alpha *= 0.9\n",
    "    d0 = nabla.partial_f(x, mu) \n",
    "    dp = pd_on_dc(param, d0)\n",
    "    ndf = np.linalg.norm(dp)\n",
    "    stp = st(dp, x)\n",
    "    print(f\"norm: {ndf}\")\n",
    "    x -=  stp * dp * alpha\n",
    "    print(f\"obj: \", nabla.obj(x, mu), obj)\n",
    "    print(f\"stopping: \", n - x.dot(x.T).trace())\n",
    "    if stp == 0:\n",
    "        break\n",
    "    print(x.round(3).min())"
   ]
  },
  {
   "cell_type": "code",
   "execution_count": 77,
   "metadata": {},
   "outputs": [
    {
     "data": {
      "text/plain": [
       "array([[-1.08568437,  4.22437648,  6.75583483, -2.34597504, -1.40192071,\n",
       "         3.11390094, -5.91158091, -0.37246223,  0.66160016, -4.56742772,\n",
       "        -7.17490839,  8.10424695],\n",
       "       [-1.23431467,  4.79304272,  7.66281032, -2.6587959 , -1.59266053,\n",
       "         3.53185248, -6.70538983, -0.42480268,  0.75186048, -5.18213382,\n",
       "        -8.13567946,  9.19421089],\n",
       "       [ 0.29961022, -1.15817991, -1.85028025,  0.64083753,  0.38594845,\n",
       "        -0.85275824,  1.61919437,  0.10384916, -0.18233123,  1.25212191,\n",
       "         1.96311416, -2.22112618],\n",
       "       [ 0.64778745, -2.52429916, -4.03794908,  1.40301578,  0.83693603,\n",
       "        -1.86120741,  3.53327143,  0.22170664, -0.39487392,  2.72934553,\n",
       "         4.28939115, -4.84312444],\n",
       "       [ 0.40386713, -1.57933468, -2.52776693,  0.87951223,  0.52247298,\n",
       "        -1.16517435,  2.21173729,  0.13744874, -0.24636681,  1.7077034 ,\n",
       "         2.68658481, -3.03068382],\n",
       "       [-0.15827648,  0.5949185 ,  0.94608   , -0.32391242, -0.20181236,\n",
       "         0.43586697, -0.82823081, -0.05722789,  0.09577219, -0.6429257 ,\n",
       "        -0.99941879,  1.13916678],\n",
       "       [ 0.61482387, -2.38523918, -3.81280063,  1.32245135,  0.79304666,\n",
       "        -1.75732839,  3.33645462,  0.21190878, -0.37443592,  2.57883556,\n",
       "         4.04751729, -4.57523402],\n",
       "       [-0.43155137,  1.6762693 ,  2.68003924, -0.93000972, -0.55689753,\n",
       "         1.23525148, -2.34517406, -0.14845443,  0.26288448, -1.81234995,\n",
       "        -2.84554409,  3.21553666],\n",
       "       [ 0.56736781, -2.19722996, -3.51126941,  1.2170036 ,  0.73135587,\n",
       "        -1.61831449,  3.07266563,  0.19609808, -0.34540797,  2.37550974,\n",
       "         3.72642367, -4.21420259],\n",
       "       [-0.68160105,  2.6639888 ,  4.26342069, -1.48310216, -0.8815948 ,\n",
       "         1.9652103 , -3.73041974, -0.2321708 ,  0.41574333, -2.88049765,\n",
       "        -4.5309245 ,  5.11194756],\n",
       "       [ 0.57943429, -2.24438224, -3.58672921,  1.24325166,  0.74696182,\n",
       "        -1.65309742,  3.13869184,  0.20020946, -0.35276768,  2.42649411,\n",
       "         3.80661595, -4.30468258],\n",
       "       [ 0.47853717, -1.86393069, -2.98138958,  1.03572308,  0.61816412,\n",
       "        -1.37420187,  2.60878016,  0.16389716, -0.29167711,  2.01532457,\n",
       "         3.16682819, -3.57605522]])"
      ]
     },
     "execution_count": 77,
     "metadata": {},
     "output_type": "execute_result"
    }
   ],
   "source": [
    "dp"
   ]
  },
  {
   "cell_type": "markdown",
   "metadata": {},
   "source": [
    "# eval"
   ]
  },
  {
   "cell_type": "code",
   "execution_count": null,
   "metadata": {},
   "outputs": [],
   "source": [
    "x_int, _ = extract_sol_rounding(x, param.A, param.B)"
   ]
  },
  {
   "cell_type": "code",
   "execution_count": null,
   "metadata": {},
   "outputs": [],
   "source": [
    "def check_obj_val(x_sol):\n",
    "    _obj = A0.T.dot(x_sol).dot(B0).dot(x_sol.T).trace()\n",
    "    print(f'original obj {_obj}')\n",
    "    return _obj"
   ]
  },
  {
   "cell_type": "code",
   "execution_count": null,
   "metadata": {},
   "outputs": [],
   "source": [
    "check_obj_val(x)"
   ]
  },
  {
   "cell_type": "code",
   "execution_count": null,
   "metadata": {},
   "outputs": [],
   "source": [
    "nabla.original_obj(xol), nabla.obj(xol, mu)"
   ]
  }
 ],
 "metadata": {
  "kernelspec": {
   "display_name": "Python 3",
   "language": "python",
   "name": "python3"
  },
  "language_info": {
   "codemirror_mode": {
    "name": "ipython",
    "version": 3
   },
   "file_extension": ".py",
   "mimetype": "text/x-python",
   "name": "python",
   "nbconvert_exporter": "python",
   "pygments_lexer": "ipython3",
   "version": "3.7.3"
  }
 },
 "nbformat": 4,
 "nbformat_minor": 4
}
