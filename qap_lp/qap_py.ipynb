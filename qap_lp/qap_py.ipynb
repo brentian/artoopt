{
 "cells": [
  {
   "cell_type": "code",
   "execution_count": 1,
   "metadata": {},
   "outputs": [],
   "source": [
    "%load_ext autoreload\n",
    "%autoreload 2"
   ]
  },
  {
   "cell_type": "markdown",
   "metadata": {},
   "source": [
    "$$\\begin{aligned}\n",
    "&\\min_X f(X) = \\textrm{tr}(A^\\top XB X^\\top)  \\\\\n",
    "& = \\textrm{tr}(X^\\top A^\\top XB) & x = \\textrm{vec}(X)\\\\\n",
    "& = \\left <\\textrm{vec}(X),  \\textrm{vec}(A^\\top X B )  \\right > \\\\\n",
    "& = \\left <\\textrm{vec}(X), B^\\top \\otimes A^\\top \\cdot \\textrm{vec}(X)  \\right > \\\\ \n",
    "& = x^\\top (B^\\top \\otimes A^\\top) x\\\\ \n",
    "& = \\left<AX, XB\\right> \\\\\n",
    "\\mathbf{s.t.} & \\\\ \n",
    "&X \\in \\Pi_{n}\n",
    "\\end{aligned}$$"
   ]
  },
  {
   "cell_type": "code",
   "execution_count": 2,
   "metadata": {},
   "outputs": [],
   "source": [
    "from qap_lp.models import *"
   ]
  },
  {
   "cell_type": "code",
   "execution_count": 3,
   "metadata": {},
   "outputs": [],
   "source": [
    "import logging\n",
    "import os\n",
    "from logging.handlers import TimedRotatingFileHandler as TRFH\n",
    "\n",
    "import pandas as pd\n",
    "\n",
    "LOG_PATH = 'log'\n",
    "FORMAT = '[%(name)s:%(levelname)s] [%(asctime)s] %(message)s'\n",
    "logging.basicConfig(format=FORMAT)\n",
    "if LOG_PATH is not None:\n",
    "    if not os.path.exists(LOG_PATH):\n",
    "        os.makedirs(LOG_PATH)\n",
    "handler = TRFH(f'{LOG_PATH}/qap.log',\n",
    "               when='M',\n",
    "               interval=1,\n",
    "               backupCount=7,\n",
    "               encoding='utf8')\n",
    "handler.setFormatter(logging.Formatter(FORMAT))\n",
    "log = logging.getLogger()\n",
    "log.addHandler(handler)\n",
    "log.setLevel(logging.INFO)\n",
    "log.handlers = [log.handlers[-1]]"
   ]
  },
  {
   "cell_type": "code",
   "execution_count": 11,
   "metadata": {},
   "outputs": [],
   "source": [
    "instance_name = 'bur26a'\n",
    "\n",
    "# mosek params\n",
    "# msk_params = {**MSK_DEFAULT, **kwargs}\n",
    "\n",
    "# coefficients\n",
    "A0, B0 = parse(f'qapdata/{instance_name}.dat')\n",
    "A = A0 / A0.max()\n",
    "B = B0 / B0.max()\n",
    "n, m = A.shape\n",
    "e = np.ones(shape=n)\n",
    "E = np.ones(shape=(n, n))\n",
    "ab = np.kron(B.T, A.T)\n",
    "\n",
    "# parse known solution\n",
    "_, obj, arr = parse_sol(f'qapsoln/{instance_name}.sln')\n",
    "\n",
    "param = QAPParam(A, B, n, m, e, E, ab, obj, arr)"
   ]
  },
  {
   "cell_type": "markdown",
   "metadata": {},
   "source": [
    "## projection methods\n",
    "\n",
    "working on problem:\n",
    "### exact penalty\n",
    "\n",
    "$$\\begin{aligned}\n",
    " &\\min_X f  + \\mu\\cdot | \\textrm{tr}(XX^\\top) -  n| \\\\\n",
    " &= f  + \\mu\\cdot n - \\mu\\cdot \\textrm{tr}(XX^\\top)  \\\\\n",
    "\\mathbf{s.t.} & \\\\\n",
    "&Xe = X^\\top e = e \\\\\n",
    "&X \\ge 0 \\\\\n",
    "\\end{aligned}$$\n",
    "\n",
    "or\n",
    "\n",
    "$$\\begin{aligned}\n",
    "& \\min_X  f  + \\mu\\cdot n - \\mu\\cdot \\textrm{tr}(XX^\\top) - \\Lambda \\bullet X \\\\\n",
    "\\mathbf{s.t.} & \\\\\n",
    "&Xe = X^\\top e = e \\\\\n",
    "\\end{aligned}$$\n",
    "\n",
    "\n",
    "very likely to become a concave function, cannot be directly solved by conic solver.\n",
    "\n"
   ]
  },
  {
   "cell_type": "markdown",
   "metadata": {},
   "source": [
    "#### project point onto $D_n$\n",
    "\n",
    "- projection may be computed by mosek\n",
    "- or some other methods"
   ]
  },
  {
   "cell_type": "markdown",
   "metadata": {},
   "source": [
    "#### derivatives\n",
    "\n",
    "$$\\begin{aligned}\n",
    "& \\nabla_X F_\\mu  = A^\\top XB + AXB^\\top - 2\\mu X \\quad (-\\Lambda)\\\\\n",
    "& \\nabla_\\mu F_\\mu  = n - \\textrm{tr}(XX^\\top) \\\\\n",
    "& \\nabla_\\Lambda F_\\mu  = - X\n",
    "\\end{aligned}$$\n",
    "\n",
    "#### projected derivative\n",
    "\n",
    "$$\\begin{aligned}\n",
    "&\\min_D ||\\nabla F_\\mu + D ||_F^2  \\\\\n",
    "\\mathbf{s.t.} & \\\\\n",
    "&D e = D^\\top e = 0 \\\\ \n",
    "&D_{ij} \\ge 0 \\quad \\textsf{if: } X_{ij} = 0\\\\\n",
    "\\end{aligned}$$\n"
   ]
  },
  {
   "cell_type": "code",
   "execution_count": 12,
   "metadata": {},
   "outputs": [
    {
     "name": "stdout",
     "output_type": "stream",
     "text": [
      "13.42935979608503 13.42935979608503\n",
      "17.187692098294942 14.687692098294942\n"
     ]
    }
   ],
   "source": [
    "mu = 0.1\n",
    "\n",
    "nabla = QAPDerivativeL2Penalty(param, mu)\n",
    "\n",
    "def gt_min(x):\n",
    "    return x[x >= -1e-4].min()\n",
    "\n",
    "x = x0 = np.ones((n, n)) / n\n",
    "\n",
    "\n",
    "alpha = alpha0 = 0.1\n",
    "\n",
    "xol = param.xo\n",
    "optimal = nabla.obj(xol)\n",
    "print(nabla.obj(xol), nabla.original_obj(xol))\n",
    "print(nabla.obj(x), nabla.original_obj(x))"
   ]
  },
  {
   "cell_type": "markdown",
   "metadata": {},
   "source": [
    "#### gradient projection\n",
    "\n",
    "- projection may be computed by mosek\n",
    "- or some other methods"
   ]
  },
  {
   "cell_type": "code",
   "execution_count": 6,
   "metadata": {},
   "outputs": [],
   "source": [
    "# dF = x\n",
    "def pd_on_dc(param, dF, lb_indices, ub_indices=None, **kwargs):\n",
    "\n",
    "    A, B, n, m, e, E, ab = param.A, param.B, param.n, param.m, param.e, param.E, param.ab\n",
    "\n",
    "    model = mf.Model('projected_gradient_on_D_cone')\n",
    "    D = model.variable(\"d\", [*A.shape], dom.unbounded())\n",
    "    v = model.variable(1, dom.greaterThan(0))\n",
    "    m = expr.flatten(expr.add(D, dF))\n",
    "   \n",
    "    \n",
    "    model.objective(mf.ObjectiveSense.Minimize, v)\n",
    "    \n",
    "    model.constraint(expr.sum(D, 0), dom.equalsTo(0))\n",
    "    model.constraint(expr.sum(D, 1), dom.equalsTo(0))\n",
    "    model.constraint(expr.vstack(v, m), dom.inQCone())\n",
    "    constrs_lb = model.constraint(D.pick(*lb_indices), dom.equalsTo(0))\n",
    "#     constrs_ub = model.constraint(D.pick(*ub_indices), dom.lessThan(0))\n",
    "\n",
    "    # set params\n",
    "    userCallback = set_mosek_model_params(model, **kwargs)\n",
    "    model.setLogHandler(None)\n",
    "    model.solve()\n",
    "\n",
    "    model.flushSolutions()\n",
    "    D_sol = D.level().reshape(A.shape)\n",
    "    return D_sol, model, D, constrs_lb"
   ]
  },
  {
   "cell_type": "code",
   "execution_count": 7,
   "metadata": {
    "scrolled": true
   },
   "outputs": [],
   "source": [
    "def st(dp, x):\n",
    "    model = mf.Model('step_size')\n",
    "    v = model.variable(1, dom.greaterThan(0))\n",
    "    V = expr.reshape(expr.repeat(v, n*n, 0), [n, n])\n",
    "    delta = expr.mulElm(V, dp)\n",
    "    model.constraint(expr.add(x, delta), dom.greaterThan(0))\n",
    "    model.objective(mf.ObjectiveSense.Maximize, v)\n",
    "#     model.setLogHandler(sys.stdout)\n",
    "    try:\n",
    "        model.solve()\n",
    "        return v.level()[0]\n",
    "    except:\n",
    "        return 0"
   ]
  },
  {
   "cell_type": "code",
   "execution_count": 13,
   "metadata": {
    "scrolled": true
   },
   "outputs": [],
   "source": [
    "alpha = 0.1\n",
    "logger = logging.getLogger('qap')\n",
    "\n",
    "# gradient projection, not good for now\n",
    "for i in range(1000):\n",
    "    logger.info(f'====={i }====')\n",
    "    \n",
    "    #\n",
    "    obj_old = nabla.obj(x)\n",
    "    alpha *= 0.9\n",
    "    d0 = nabla.partial_f(x) \n",
    "    \n",
    "    # indices of active lower bound constraints \n",
    "    lb_x, lb_y = np.where(x <= 1e-4)\n",
    "    lb_x = lb_x.tolist()\n",
    "    lb_y = lb_y.tolist()\n",
    "    \n",
    "    dp, m, D, constrs_lb = pd_on_dc(\n",
    "        param, d0, \n",
    "        (lb_x, lb_y),\n",
    "    )\n",
    "    ndf = np.abs(dp).max()\n",
    "    \n",
    "    stp = st(dp, x)\n",
    "    \n",
    "    logger.info(f\"gradient norm: {ndf}\")\n",
    "    \n",
    "    if stp <= 1e-6:\n",
    "# \n",
    "#         try:\n",
    "#             idx = constrs_lb.dual().argmax()\n",
    "#             lb_x.pop(idx)\n",
    "#             lb_y.pop(idx)\n",
    "#         except Exception as e:\n",
    "#             logging.exception(e)\n",
    "#             lb_x, lb_y = np.where(x <= 1e-5)\n",
    "#             lb_x = lb_x.tolist()\n",
    "#             lb_y = lb_y.tolist()\n",
    "#         logger.info(f\"change active set @{i}\")\n",
    "#         dp, m, D, constrs_lb = pd_on_dc(\n",
    "#             param, d0, \n",
    "#             (lb_x, lb_y)\n",
    "#         )\n",
    "        break\n",
    "    \n",
    "    objs = [(i, nabla.obj(x + i / 10 * stp * dp)) \n",
    "            for i in range(1, 11)]\n",
    "    i_s, vs = min(objs, key=lambda x: x[-1])\n",
    "    logger.info(f\"steps: {i_s}, {vs}, {stp}\")\n",
    "    x = x + i_s / 10 * stp * dp\n",
    "    logger.info(f\"obj: {vs, vs - obj_old}, gap: {(vs - optimal)/optimal}\")\n",
    "    logger.info(f\"trace deficiency: {n - x.dot(x.T).trace()}\")"
   ]
  },
  {
   "cell_type": "code",
   "execution_count": 9,
   "metadata": {},
   "outputs": [
    {
     "data": {
      "text/plain": [
       "[(1, 1.451679059329539),\n",
       " (2, 1.4518583277130657),\n",
       " (3, 1.4522333003167445),\n",
       " (4, 1.4528039771405765),\n",
       " (5, 1.4535703581845618),\n",
       " (6, 1.4545324434486995),\n",
       " (7, 1.4556902329329908),\n",
       " (8, 1.457043726637435),\n",
       " (9, 1.4585929245620324),\n",
       " (10, 1.4603378267067828)]"
      ]
     },
     "execution_count": 9,
     "metadata": {},
     "output_type": "execute_result"
    }
   ],
   "source": []
  },
  {
   "cell_type": "code",
   "execution_count": 10,
   "metadata": {},
   "outputs": [
    {
     "data": {
      "text/plain": [
       "1.451695495166166"
      ]
     },
     "execution_count": 10,
     "metadata": {},
     "output_type": "execute_result"
    }
   ],
   "source": [
    "obj_old"
   ]
  },
  {
   "cell_type": "code",
   "execution_count": null,
   "metadata": {},
   "outputs": [],
   "source": [
    "x.round(4).tolist()"
   ]
  },
  {
   "cell_type": "code",
   "execution_count": null,
   "metadata": {},
   "outputs": [],
   "source": [
    "stp"
   ]
  },
  {
   "cell_type": "markdown",
   "metadata": {},
   "source": [
    "#### point proj"
   ]
  },
  {
   "cell_type": "code",
   "execution_count": null,
   "metadata": {},
   "outputs": [],
   "source": [
    "def proj_on_dn(param, x, **kwargs):\n",
    "    A, B, n, m, e, E, ab = param.A, param.B, param.n, param.m, param.e, param.E, param.ab\n",
    "    \n",
    "    model = mf.Model('projected_on_Dn')\n",
    "    D = model.variable(\"d\", [*A.shape], dom.inRange(0, 1))\n",
    "    v = model.variable(1, dom.greaterThan(0.0))\n",
    "    \n",
    "    # m = vec(D - dF)\n",
    "    m = expr.flatten(expr.sub(D, x))\n",
    "    model.constraint(expr.sum(D, 0), dom.equalsTo(1))\n",
    "    model.constraint(expr.sum(D, 1), dom.equalsTo(1))\n",
    "    model.constraint(expr.vstack(v, m), dom.inQCone())\n",
    "    model.objective(mf.ObjectiveSense.Minimize, v)\n",
    "\n",
    "    # set params\n",
    "    userCallback = set_mosek_model_params(model, **kwargs)\n",
    "    model.setLogHandler(None)\n",
    "    model.solve()\n",
    "\n",
    "    model.flushSolutions()\n",
    "    D_sol = D.level().reshape(A.shape)\n",
    "    return D_sol"
   ]
  },
  {
   "cell_type": "code",
   "execution_count": null,
   "metadata": {
    "scrolled": true
   },
   "outputs": [],
   "source": [
    "def point_proj_naive():\n",
    "    # point projection\n",
    "    # - stuck at an corner point, vertex.\n",
    "    # - once reached, it stays.\n",
    "    for i in range(5):\n",
    "        obj = nabla.obj(x, mu)\n",
    "        print(f'====={i }====')\n",
    "        alpha = 1/(i+1)\n",
    "        d0 = nabla.partial_f(x, mu)\n",
    "        x0 = x - d0 * alpha0\n",
    "        xp = proj_on_dn(param, x0)\n",
    "    #     # direction\n",
    "    #     dx = xp - x\n",
    "    #     st = gt_min(x/dx)\n",
    "    #     print(f\"stepsize: \", alpha, st)\n",
    "    #     x -=  st * alpha * dx\n",
    "        x = xp\n",
    "        print(f\"obj: \", nabla.original_obj(x), nabla.obj(x, mu), nabla.obj(x, mu) - obj)\n",
    "        print(f\"stopping: \", n - x.dot(x.T).trace())\n",
    "        print(x.round(3).min())\n",
    "        print(np.linalg.norm(d0))"
   ]
  },
  {
   "cell_type": "code",
   "execution_count": null,
   "metadata": {},
   "outputs": [],
   "source": [
    "?constrs_lb"
   ]
  },
  {
   "cell_type": "code",
   "execution_count": null,
   "metadata": {},
   "outputs": [],
   "source": [
    "idx = constrs_lb.dual().argmax()"
   ]
  },
  {
   "cell_type": "code",
   "execution_count": null,
   "metadata": {},
   "outputs": [],
   "source": [
    "x.round(4)"
   ]
  },
  {
   "cell_type": "code",
   "execution_count": null,
   "metadata": {},
   "outputs": [],
   "source": []
  },
  {
   "cell_type": "code",
   "execution_count": null,
   "metadata": {},
   "outputs": [],
   "source": [
    "dp.round(4)"
   ]
  },
  {
   "cell_type": "markdown",
   "metadata": {},
   "source": [
    "# eval"
   ]
  },
  {
   "cell_type": "code",
   "execution_count": null,
   "metadata": {},
   "outputs": [],
   "source": [
    "x_int, _ = extract_sol_rounding(x, param.A, param.B)"
   ]
  },
  {
   "cell_type": "code",
   "execution_count": null,
   "metadata": {},
   "outputs": [],
   "source": [
    "def check_obj_val(x_sol):\n",
    "    _obj = A0.T.dot(x_sol).dot(B0).dot(x_sol.T).trace()\n",
    "    print(f'original obj {_obj}')\n",
    "    return _obj"
   ]
  },
  {
   "cell_type": "code",
   "execution_count": null,
   "metadata": {},
   "outputs": [],
   "source": [
    "check_obj_val(x)"
   ]
  },
  {
   "cell_type": "code",
   "execution_count": null,
   "metadata": {},
   "outputs": [],
   "source": [
    "nabla.original_obj(xol), nabla.obj(xol, mu)"
   ]
  }
 ],
 "metadata": {
  "kernelspec": {
   "display_name": "Python 3",
   "language": "python",
   "name": "python3"
  },
  "language_info": {
   "codemirror_mode": {
    "name": "ipython",
    "version": 3
   },
   "file_extension": ".py",
   "mimetype": "text/x-python",
   "name": "python",
   "nbconvert_exporter": "python",
   "pygments_lexer": "ipython3",
   "version": "3.7.3"
  }
 },
 "nbformat": 4,
 "nbformat_minor": 4
}
