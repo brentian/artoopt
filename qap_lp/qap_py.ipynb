{
 "cells": [
  {
   "cell_type": "code",
   "execution_count": 1,
   "metadata": {},
   "outputs": [],
   "source": [
    "%load_ext autoreload\n",
    "%autoreload 2"
   ]
  },
  {
   "cell_type": "markdown",
   "metadata": {},
   "source": [
    "$$\\begin{aligned}\n",
    "&\\min_X f(X) = \\textrm{tr}(A^\\top XB X^\\top)  \\\\\n",
    "& = \\textrm{tr}(X^\\top A^\\top XB) & x = \\textrm{vec}(X)\\\\\n",
    "& = \\left <\\textrm{vec}(X),  \\textrm{vec}(A^\\top X B )  \\right > \\\\\n",
    "& = \\left <\\textrm{vec}(X), B^\\top \\otimes A^\\top \\cdot \\textrm{vec}(X)  \\right > \\\\ \n",
    "& = x^\\top (B^\\top \\otimes A^\\top) x\\\\ \n",
    "& = \\left<AX, XB\\right> \\\\\n",
    "\\mathbf{s.t.} & \\\\ \n",
    "&X \\in \\Pi_{n}\n",
    "\\end{aligned}$$"
   ]
  },
  {
   "cell_type": "code",
   "execution_count": 2,
   "metadata": {},
   "outputs": [],
   "source": [
    "from qap_lp.models import *"
   ]
  },
  {
   "cell_type": "code",
   "execution_count": 103,
   "metadata": {},
   "outputs": [
    {
     "data": {
      "text/plain": [
       "array([[1., 1., 1., 1., 1., 1., 1., 1., 1., 1., 1., 1.],\n",
       "       [1., 1., 1., 1., 1., 1., 1., 1., 1., 1., 1., 1.],\n",
       "       [1., 1., 1., 1., 1., 1., 1., 1., 1., 1., 1., 1.],\n",
       "       [1., 1., 1., 1., 1., 1., 1., 1., 1., 1., 1., 1.],\n",
       "       [1., 1., 1., 1., 1., 1., 1., 1., 1., 1., 1., 1.],\n",
       "       [1., 1., 1., 1., 1., 1., 1., 1., 1., 1., 1., 1.],\n",
       "       [1., 1., 1., 1., 1., 1., 1., 1., 1., 1., 1., 1.],\n",
       "       [1., 1., 1., 1., 1., 1., 1., 1., 1., 1., 1., 1.],\n",
       "       [1., 1., 1., 1., 1., 1., 1., 1., 1., 1., 1., 1.],\n",
       "       [1., 1., 1., 1., 1., 1., 1., 1., 1., 1., 1., 1.],\n",
       "       [1., 1., 1., 1., 1., 1., 1., 1., 1., 1., 1., 1.],\n",
       "       [1., 1., 1., 1., 1., 1., 1., 1., 1., 1., 1., 1.]])"
      ]
     },
     "execution_count": 103,
     "metadata": {},
     "output_type": "execute_result"
    }
   ],
   "source": [
    "e.dot(e.T)"
   ]
  },
  {
   "cell_type": "code",
   "execution_count": 143,
   "metadata": {},
   "outputs": [],
   "source": [
    "instance_name = 'chr12a'\n",
    "\n",
    "A0, B0 = parse(f'qapdata/{instance_name}.dat')\n",
    "A = A0 / np.linalg.norm(A0)\n",
    "B = B0 / np.linalg.norm(B0)\n",
    "n, m = A.shape\n",
    "e = np.ones(shape=(n, 1))\n",
    "E = np.ones(shape=(n, n))\n",
    "ab = np.kron(B.T, A.T)\n",
    "\n",
    "param = QAPParam(A, B, n, m, e, E, ab)"
   ]
  },
  {
   "cell_type": "markdown",
   "metadata": {},
   "source": [
    "## projected gradient\n",
    "\n",
    "working on problem:\n",
    "### exact penalty\n",
    "\n",
    "$$\\begin{aligned}\n",
    "F_{\\mu} & =  f  + \\mu\\cdot | \\textrm{tr}(XX^T) -  n| \\\\\n",
    " &= f  + \\mu\\cdot n - \\mu\\cdot \\textrm{tr}(XX^T)\n",
    "\\end{aligned}$$\n",
    "\n",
    "very likely to become a concave function, cannot be directly solved by conic solver.\n",
    "\n",
    "#### derivatives\n",
    "\n",
    "$$\\begin{aligned}\n",
    "\\nabla F_\\mu  = A^TXB + AXB^T - 2\\mu X\n",
    "\\end{aligned}$$"
   ]
  },
  {
   "cell_type": "markdown",
   "metadata": {},
   "source": [
    "\n",
    "#### projected derivative\n",
    "\n",
    "$$\\begin{aligned}\n",
    "&\\min_D ||\\nabla F_\\mu - D ||_F^2  \\\\\n",
    "\\mathsf{s.t.} & \\\\\n",
    "&D e = D^\\top e = 0 \\\\\n",
    "\\end{aligned}$$\n"
   ]
  },
  {
   "cell_type": "code",
   "execution_count": 83,
   "metadata": {},
   "outputs": [],
   "source": [
    "nabla = QAPDerivativeL2Penalty(param)"
   ]
  },
  {
   "cell_type": "code",
   "execution_count": 455,
   "metadata": {},
   "outputs": [],
   "source": [
    "def gt_min(x):\n",
    "    return x[x >= -1e-4].min()"
   ]
  },
  {
   "cell_type": "code",
   "execution_count": 305,
   "metadata": {},
   "outputs": [],
   "source": [
    "def pd_on_dc(param, dF, **kwargs):\n",
    "    A, B, n, m, e, E, ab = param.A, param.B, param.n, param.m, param.e, param.E, param.ab\n",
    "    \n",
    "    model = mf.Model('projected_gradient_on_D_cone')\n",
    "    D = model.variable(\"d\", [*A.shape], dom.unbounded())\n",
    "    v = model.variable(1, dom.greaterThan(0.0))\n",
    "    \n",
    "    # m = vec(D - dF)\n",
    "    m = expr.flatten(expr.sub(D, dF))\n",
    "    model.constraint(expr.sum(D, 0), dom.equalsTo(0))\n",
    "    model.constraint(expr.sum(D, 1), dom.equalsTo(0))\n",
    "    model.constraint(expr.vstack(v, m), dom.inQCone())\n",
    "    model.objective(mf.ObjectiveSense.Minimize, v)\n",
    "\n",
    "    # set params\n",
    "    userCallback = set_mosek_model_params(model, **kwargs)\n",
    "    model.setLogHandler(None)\n",
    "    model.solve()\n",
    "\n",
    "    model.flushSolutions()\n",
    "    D_sol = D.level().reshape(A.shape)\n",
    "    return D_sol"
   ]
  },
  {
   "cell_type": "code",
   "execution_count": 335,
   "metadata": {},
   "outputs": [],
   "source": [
    "def proj_on_dn(param, x, **kwargs):\n",
    "    A, B, n, m, e, E, ab = param.A, param.B, param.n, param.m, param.e, param.E, param.ab\n",
    "    \n",
    "    model = mf.Model('projected_on_Dn')\n",
    "    D = model.variable(\"d\", [*A.shape], dom.inRange(0, 1))\n",
    "    v = model.variable(1, dom.greaterThan(0.0))\n",
    "    \n",
    "    # m = vec(D - dF)\n",
    "    m = expr.flatten(expr.sub(D, x))\n",
    "    model.constraint(expr.sum(D, 0), dom.equalsTo(1))\n",
    "    model.constraint(expr.sum(D, 1), dom.equalsTo(1))\n",
    "    model.constraint(expr.vstack(v, m), dom.inQCone())\n",
    "    model.objective(mf.ObjectiveSense.Minimize, v)\n",
    "\n",
    "    # set params\n",
    "    userCallback = set_mosek_model_params(model, **kwargs)\n",
    "    model.setLogHandler(None)\n",
    "    model.solve()\n",
    "\n",
    "    model.flushSolutions()\n",
    "    D_sol = D.level().reshape(A.shape)\n",
    "    return D_sol"
   ]
  },
  {
   "cell_type": "code",
   "execution_count": 593,
   "metadata": {},
   "outputs": [
    {
     "data": {
      "text/plain": [
       "(1100.2610504307938, 0.2610504307937287)"
      ]
     },
     "execution_count": 593,
     "metadata": {},
     "output_type": "execute_result"
    }
   ],
   "source": [
    "# initialize: x0 = [1]/n\n",
    "x = x0 = np.ones((n, n)) / n\n",
    "mu = 100\n",
    "alpha = alpha0 = 0.1\n",
    "nabla.obj(x, mu), nabla.original_obj(x)"
   ]
  },
  {
   "cell_type": "code",
   "execution_count": 597,
   "metadata": {},
   "outputs": [
    {
     "name": "stdout",
     "output_type": "stream",
     "text": [
      "=====0====\n",
      "obj:  0.25917477904181396 -10.89360776235451\n"
     ]
    }
   ],
   "source": [
    "# point projection\n",
    "for i in range(100):\n",
    "    print(f'====={i }====')\n",
    "    alpha = 1/(i+1)\n",
    "    d0 = nabla.partial_f(x, mu)\n",
    "    x0 = x - d0 * alpha0\n",
    "    xp = proj_on_dn(param, x0)\n",
    "#     obj = nabla.obj(x, mu)\n",
    "#     # direction\n",
    "#     dx = xp - x\n",
    "#     st = gt_min(x/dx)\n",
    "#     print(f\"stepsize: \", alpha, st)\n",
    "#     x -=  st * alpha * dx\n",
    "    x = xp\n",
    "    print(f\"obj: \", nabla.obj(x, mu), nabla.obj(x, mu) - obj)\n",
    "    if abs(n - x.dot(x.T).trace()) < 0.5:\n",
    "        break\n",
    "    print(f\"stopping: \", n - x.dot(x.T).trace())\n",
    "    print(x.round(3).min())"
   ]
  },
  {
   "cell_type": "code",
   "execution_count": 598,
   "metadata": {},
   "outputs": [
    {
     "data": {
      "text/plain": [
       "array([[-0., -0., -0., -0., -0., -0.,  1., -0., -0., -0., -0., -0.],\n",
       "       [-0., -0., -0., -0., -0., -0., -0., -0., -0., -0.,  1., -0.],\n",
       "       [ 1., -0., -0., -0., -0., -0., -0., -0., -0., -0., -0., -0.],\n",
       "       [-0., -0., -0., -0., -0., -0., -0., -0., -0., -0., -0.,  1.],\n",
       "       [-0., -0., -0., -0., -0., -0., -0.,  1., -0., -0., -0., -0.],\n",
       "       [-0., -0., -0., -0.,  1., -0., -0., -0., -0., -0., -0., -0.],\n",
       "       [-0., -0.,  1., -0., -0., -0., -0., -0., -0., -0., -0., -0.],\n",
       "       [-0., -0., -0.,  1., -0., -0., -0., -0., -0., -0., -0., -0.],\n",
       "       [-0., -0., -0., -0., -0.,  1., -0., -0., -0., -0., -0., -0.],\n",
       "       [-0., -0., -0., -0., -0., -0., -0., -0., -0.,  1., -0., -0.],\n",
       "       [-0.,  1., -0., -0., -0., -0., -0., -0., -0., -0., -0., -0.],\n",
       "       [-0., -0., -0., -0., -0., -0., -0., -0.,  1., -0., -0., -0.]])"
      ]
     },
     "execution_count": 598,
     "metadata": {},
     "output_type": "execute_result"
    }
   ],
   "source": [
    "xp.round(4)"
   ]
  },
  {
   "cell_type": "code",
   "execution_count": null,
   "metadata": {},
   "outputs": [],
   "source": []
  },
  {
   "cell_type": "code",
   "execution_count": 458,
   "metadata": {
    "scrolled": true
   },
   "outputs": [
    {
     "name": "stdout",
     "output_type": "stream",
     "text": [
      "=====0====\n",
      "norm: 1.6733845869610735\n",
      "stepsize:  0.0\n",
      "obj:  11.152696760229476 0.0\n",
      "stopping:  10.905510700018416\n",
      "0.0\n"
     ]
    }
   ],
   "source": [
    "# gradient projection, not good for now\n",
    "for i in range(1):\n",
    "    print(f'====={i }====')\n",
    "    alpha *= 0.9\n",
    "    d0 = nabla.partial_f(x, mu)\n",
    "    dp = pd_on_dc(param, d0)\n",
    "    ndf = np.linalg.norm(d0)\n",
    "    print(f\"norm: {ndf}\")\n",
    "    obj = nabla.obj(x, mu)\n",
    "    # compute restricted stepsize\n",
    "    st1 = gt_min(x/dp)\n",
    "    print(f\"stepsize: \", st1)\n",
    "    x -=  st1 * dp\n",
    "    print(f\"obj: \", nabla.obj(x, mu), nabla.obj(x, mu) - obj)\n",
    "    if abs(n - x.dot(x.T).trace()) < 1:\n",
    "        break\n",
    "    print(f\"stopping: \", n - x.dot(x.T).trace())\n",
    "    print(x.round(3).min())"
   ]
  },
  {
   "cell_type": "markdown",
   "metadata": {},
   "source": [
    "# eval"
   ]
  },
  {
   "cell_type": "code",
   "execution_count": 421,
   "metadata": {},
   "outputs": [
    {
     "name": "stdout",
     "output_type": "stream",
     "text": [
      "sampling results: min:0.10482158445449206, max:0.4129622032067326, avg:0.2619951630942756\n"
     ]
    }
   ],
   "source": [
    "x_int, _ = extract_sol_rounding(x, param.A, param.B)"
   ]
  },
  {
   "cell_type": "code",
   "execution_count": 419,
   "metadata": {},
   "outputs": [],
   "source": [
    "def check_obj_val(x_sol):\n",
    "    _obj = A0.T.dot(x_sol).dot(B0).dot(x_sol.T).trace()\n",
    "    print(f'original obj {_obj}')\n",
    "    return _obj"
   ]
  },
  {
   "cell_type": "code",
   "execution_count": 599,
   "metadata": {},
   "outputs": [
    {
     "name": "stdout",
     "output_type": "stream",
     "text": [
      "original obj 41064.000030433184\n"
     ]
    },
    {
     "data": {
      "text/plain": [
       "41064.000030433184"
      ]
     },
     "execution_count": 599,
     "metadata": {},
     "output_type": "execute_result"
    }
   ],
   "source": [
    "check_obj_val(x)"
   ]
  }
 ],
 "metadata": {
  "kernelspec": {
   "display_name": "Python 3",
   "language": "python",
   "name": "python3"
  },
  "language_info": {
   "codemirror_mode": {
    "name": "ipython",
    "version": 3
   },
   "file_extension": ".py",
   "mimetype": "text/x-python",
   "name": "python",
   "nbconvert_exporter": "python",
   "pygments_lexer": "ipython3",
   "version": "3.7.3"
  }
 },
 "nbformat": 4,
 "nbformat_minor": 4
}
