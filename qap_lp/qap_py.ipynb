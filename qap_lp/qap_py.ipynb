{
 "cells": [
  {
   "cell_type": "code",
   "execution_count": 1,
   "metadata": {},
   "outputs": [],
   "source": [
    "%load_ext autoreload\n",
    "%autoreload 2"
   ]
  },
  {
   "cell_type": "markdown",
   "metadata": {},
   "source": [
    "$$\\begin{aligned}\n",
    "&\\min_X f(X) = \\textrm{tr}(A^\\top XB X^\\top)  \\\\\n",
    "& = \\textrm{tr}(X^\\top A^\\top XB) & x = \\textrm{vec}(X)\\\\\n",
    "& = \\left <\\textrm{vec}(X),  \\textrm{vec}(A^\\top X B )  \\right > \\\\\n",
    "& = \\left <\\textrm{vec}(X), B^\\top \\otimes A^\\top \\cdot \\textrm{vec}(X)  \\right > \\\\ \n",
    "& = x^\\top (B^\\top \\otimes A^\\top) x\\\\ \n",
    "& = \\left<AX, XB\\right> \\\\\n",
    "\\mathbf{s.t.} & \\\\ \n",
    "&X \\in \\Pi_{n}\n",
    "\\end{aligned}$$"
   ]
  },
  {
   "cell_type": "code",
   "execution_count": 2,
   "metadata": {},
   "outputs": [],
   "source": [
    "from qap_lp.models import *"
   ]
  },
  {
   "cell_type": "code",
   "execution_count": 3,
   "metadata": {},
   "outputs": [],
   "source": [
    "instance_name = 'chr12a'\n",
    "\n",
    "A0, B0 = parse(f'qapdata/{instance_name}.dat')\n",
    "A = A0 / np.linalg.norm(A0)\n",
    "B = B0 / np.linalg.norm(B0)\n",
    "n, m = A.shape\n",
    "e = np.ones(shape=(n, 1))\n",
    "E = np.ones(shape=(n, n))\n",
    "ab = np.kron(B.T, A.T)\n",
    "\n",
    "param = QAPParam(A, B, n, m, e, E, ab)"
   ]
  },
  {
   "cell_type": "markdown",
   "metadata": {},
   "source": [
    "## projection methods\n",
    "\n",
    "working on problem:\n",
    "### exact penalty\n",
    "\n",
    "$$\\begin{aligned}\n",
    " &\\min_X f  + \\mu\\cdot | \\textrm{tr}(XX^\\top) -  n| \\\\\n",
    " &= f  + \\mu\\cdot n - \\mu\\cdot \\textrm{tr}(XX^\\top)  \\\\\n",
    "\\mathbf{s.t.} & \\\\\n",
    "&Xe = X^\\top e = e \\\\\n",
    "&X \\ge 0 \\\\\n",
    "\\end{aligned}$$\n",
    "\n",
    "or\n",
    "\n",
    "$$\\begin{aligned}\n",
    "& \\min_X  f  + \\mu\\cdot n - \\mu\\cdot \\textrm{tr}(XX^\\top) - \\Lambda \\bullet X \\\\\n",
    "\\mathbf{s.t.} & \\\\\n",
    "&Xe = X^\\top e = e \\\\\n",
    "\\end{aligned}$$\n",
    "\n",
    "\n",
    "very likely to become a concave function, cannot be directly solved by conic solver.\n",
    "\n"
   ]
  },
  {
   "cell_type": "markdown",
   "metadata": {},
   "source": [
    "#### project point onto $D_n$\n",
    "\n",
    "- projection may be computed by mosek\n",
    "- or some other methods"
   ]
  },
  {
   "cell_type": "markdown",
   "metadata": {},
   "source": [
    "#### derivatives\n",
    "\n",
    "$$\\begin{aligned}\n",
    "& \\nabla_X F_\\mu  = A^\\top XB + AXB^\\top - 2\\mu X \\quad (-\\Lambda)\\\\\n",
    "& \\nabla_\\mu F_\\mu  = n - \\textrm{tr}(XX^\\top) \\\\\n",
    "& \\nabla_\\Lambda F_\\mu  = - X\n",
    "\\end{aligned}$$\n",
    "\n",
    "#### projected derivative\n",
    "\n",
    "$$\\begin{aligned}\n",
    "&\\min_D ||\\nabla F_\\mu + D ||_F^2  \\\\\n",
    "\\mathbf{s.t.} & \\\\\n",
    "&D e = D^\\top e = 0 \\\\ \n",
    "&D_{ij} \\le 0 \\quad \\textsf{if: } X_{ij} = 1\\\\\n",
    "&D_{ij} \\ge 0 \\quad \\textsf{if: } X_{ij} = 0\\\\\n",
    "\\end{aligned}$$\n"
   ]
  },
  {
   "cell_type": "code",
   "execution_count": 387,
   "metadata": {},
   "outputs": [
    {
     "data": {
      "text/plain": [
       "(11.261050430793729, 0.2610504307937287)"
      ]
     },
     "execution_count": 387,
     "metadata": {},
     "output_type": "execute_result"
    }
   ],
   "source": [
    "nabla = QAPDerivativeL2Penalty(param)\n",
    "\n",
    "perm = (7,5,12,2,1,3,9,11,10,6,8,4)\n",
    "xol = np.zeros((n, n))\n",
    "for idx, v in enumerate(perm):\n",
    "    xol[idx, v-1]=1\n",
    "\n",
    "def gt_min(x):\n",
    "    return x[x >= -1e-4].min()\n",
    "\n",
    "# initialize: x0 = [1]/n\n",
    "x = x0 = np.ones((n, n)) / n\n",
    "mu = 1\n",
    "alpha = alpha0 = 0.1\n",
    "nabla.obj(x, mu), nabla.original_obj(x)"
   ]
  },
  {
   "cell_type": "code",
   "execution_count": null,
   "metadata": {},
   "outputs": [],
   "source": [
    "def proj_on_dn(param, x, **kwargs):\n",
    "    A, B, n, m, e, E, ab = param.A, param.B, param.n, param.m, param.e, param.E, param.ab\n",
    "    \n",
    "    model = mf.Model('projected_on_Dn')\n",
    "    D = model.variable(\"d\", [*A.shape], dom.inRange(0, 1))\n",
    "    v = model.variable(1, dom.greaterThan(0.0))\n",
    "    \n",
    "    # m = vec(D - dF)\n",
    "    m = expr.flatten(expr.sub(D, x))\n",
    "    model.constraint(expr.sum(D, 0), dom.equalsTo(1))\n",
    "    model.constraint(expr.sum(D, 1), dom.equalsTo(1))\n",
    "    model.constraint(expr.vstack(v, m), dom.inQCone())\n",
    "    model.objective(mf.ObjectiveSense.Minimize, v)\n",
    "\n",
    "    # set params\n",
    "    userCallback = set_mosek_model_params(model, **kwargs)\n",
    "    model.setLogHandler(None)\n",
    "    model.solve()\n",
    "\n",
    "    model.flushSolutions()\n",
    "    D_sol = D.level().reshape(A.shape)\n",
    "    return D_sol"
   ]
  },
  {
   "cell_type": "code",
   "execution_count": null,
   "metadata": {
    "scrolled": true
   },
   "outputs": [],
   "source": [
    "def point_proj_naive():\n",
    "    # point projection\n",
    "    # - stuck at an corner point, vertex.\n",
    "    # - once reached, it stays.\n",
    "    for i in range(5):\n",
    "        obj = nabla.obj(x, mu)\n",
    "        print(f'====={i }====')\n",
    "        alpha = 1/(i+1)\n",
    "        d0 = nabla.partial_f(x, mu)\n",
    "        x0 = x - d0 * alpha0\n",
    "        xp = proj_on_dn(param, x0)\n",
    "    #     # direction\n",
    "    #     dx = xp - x\n",
    "    #     st = gt_min(x/dx)\n",
    "    #     print(f\"stepsize: \", alpha, st)\n",
    "    #     x -=  st * alpha * dx\n",
    "        x = xp\n",
    "        print(f\"obj: \", nabla.original_obj(x), nabla.obj(x, mu), nabla.obj(x, mu) - obj)\n",
    "        print(f\"stopping: \", n - x.dot(x.T).trace())\n",
    "        print(x.round(3).min())\n",
    "        print(np.linalg.norm(d0))"
   ]
  },
  {
   "cell_type": "markdown",
   "metadata": {},
   "source": [
    "#### gradient projection\n",
    "\n",
    "- projection may be computed by mosek\n",
    "- or some other methods"
   ]
  },
  {
   "cell_type": "code",
   "execution_count": 343,
   "metadata": {},
   "outputs": [],
   "source": [
    "# dF = x\n",
    "def pd_on_dc(param, dF, lb_indices, ub_indices, **kwargs):\n",
    "\n",
    "    A, B, n, m, e, E, ab = param.A, param.B, param.n, param.m, param.e, param.E, param.ab\n",
    "\n",
    "    model = mf.Model('projected_gradient_on_D_cone')\n",
    "    D = model.variable(\"d\", [*A.shape], dom.unbounded())\n",
    "    v = model.variable(1, dom.greaterThan(0))\n",
    "    m = expr.flatten(expr.add(D, dF))\n",
    "   \n",
    "    \n",
    "    model.objective(mf.ObjectiveSense.Minimize, v)\n",
    "    \n",
    "    model.constraint(expr.sum(D, 0), dom.equalsTo(0))\n",
    "    model.constraint(expr.sum(D, 1), dom.equalsTo(0))\n",
    "    model.constraint(expr.vstack(v, m), dom.inQCone())\n",
    "    constrs_lb = model.constraint(D.pick(*lb_indices), dom.greaterThan(0))\n",
    "    constrs_ub = model.constraint(D.pick(*ub_indices), dom.lessThan(0))\n",
    "\n",
    "    # set params\n",
    "    userCallback = set_mosek_model_params(model, **kwargs)\n",
    "    model.setLogHandler(None)\n",
    "    model.solve()\n",
    "\n",
    "    model.flushSolutions()\n",
    "    D_sol = D.level().reshape(A.shape)\n",
    "    return D_sol, model, constrs_lb, constrs_ub"
   ]
  },
  {
   "cell_type": "code",
   "execution_count": 197,
   "metadata": {
    "scrolled": true
   },
   "outputs": [],
   "source": [
    "def st(dp, x):\n",
    "    model = mf.Model('step_size')\n",
    "    v = model.variable(1, dom.greaterThan(0))\n",
    "    V = expr.reshape(expr.repeat(v, n*n, 0), [n, n])\n",
    "    delta = expr.mulElm(V, dp)\n",
    "    model.constraint(expr.add(x, delta), dom.greaterThan(0))\n",
    "    model.objective(mf.ObjectiveSense.Maximize, v)\n",
    "#     model.setLogHandler(sys.stdout)\n",
    "    try:\n",
    "        model.solve()\n",
    "        return v.level()[0]\n",
    "    except:\n",
    "        return 0"
   ]
  },
  {
   "cell_type": "code",
   "execution_count": 401,
   "metadata": {
    "scrolled": true
   },
   "outputs": [
    {
     "name": "stdout",
     "output_type": "stream",
     "text": [
      "=====0====\n",
      "gradient norm: 1.4816446058693113\n",
      "stop @-1\n"
     ]
    }
   ],
   "source": [
    "alpha = 0.1\n",
    "# gradient projection, not good for now\n",
    "for i in range(10000):\n",
    "    print(f'====={i }====')\n",
    "    obj = nabla.obj(x, mu)\n",
    "    alpha *= 0.9\n",
    "    d0 = nabla.partial_f(x, mu) \n",
    "    # lb_indices\n",
    "    lb_x, lb_y = np.where(x <= 1e-5)\n",
    "    # ub\n",
    "    ub_x, ub_y = np.where(1-x <= 1e-5)\n",
    "    dp, m, constrs_lb, constrs_ub = pd_on_dc(\n",
    "        param, d0, \n",
    "        (lb_x.tolist(), lb_y.tolist()),\n",
    "        (ub_x.tolist(), ub_y.tolist())\n",
    "    )\n",
    "    ndf = np.linalg.norm(dp)\n",
    "    stp = st(dp, x)\n",
    "    print(f\"gradient norm: {ndf}\")\n",
    "    if stp <= 1e-7:\n",
    "        print(f\"stop @{i - 1}\")\n",
    "        break\n",
    "    else:\n",
    "        objs = [(i, nabla.obj(x - i / 10 * stp * dp, mu)) \n",
    "                for i in range(1, 11)]\n",
    "        i_s, vs = min(objs, key=lambda x: x[-1])\n",
    "        print(i_s, vs, stp)\n",
    "        x = x + i_s / 10 * stp * dp\n",
    "        print(f\"obj: \", nabla.obj(x, mu), obj)\n",
    "        print(f\"trace deficiency: \", n - x.dot(x.T).trace())"
   ]
  },
  {
   "cell_type": "code",
   "execution_count": 407,
   "metadata": {},
   "outputs": [
    {
     "data": {
      "text/plain": [
       "array([[-0.    , -0.    , -0.    , -0.    , -0.    , -0.    ,  0.011 ,\n",
       "        -0.    , -0.    , -0.3322,  0.3212, -0.    ],\n",
       "       [-0.    , -0.    , -0.    , -0.    , -0.    , -0.    ,  0.1288,\n",
       "        -0.    , -0.    , -0.2361,  0.1073, -0.    ],\n",
       "       [-0.0888,  0.    , -0.    ,  0.1208, -0.2285,  0.    , -0.    ,\n",
       "         0.0627,  0.1337, -0.    , -0.    , -0.    ],\n",
       "       [-0.    , -0.1258,  0.1271, -0.    , -0.    , -0.0763, -0.    ,\n",
       "        -0.    , -0.    , -0.    , -0.    ,  0.075 ],\n",
       "       [ 0.0756,  0.    , -0.    , -0.    ,  0.0213, -0.2603, -0.    ,\n",
       "         0.1793, -0.0159, -0.    , -0.    , -0.    ],\n",
       "       [ 0.2209, -0.    , -0.    , -0.4033,  0.6215, -0.    , -0.    ,\n",
       "        -0.4391, -0.    , -0.    , -0.    , -0.    ],\n",
       "       [-0.    ,  0.076 ,  0.0883, -0.    , -0.    ,  0.0538, -0.    ,\n",
       "        -0.    , -0.2355, -0.    , -0.    ,  0.0173],\n",
       "       [-0.1639, -0.    , -0.    ,  0.1831, -0.1186, -0.    , -0.    ,\n",
       "        -0.    , -0.    ,  0.0994, -0.    , -0.    ],\n",
       "       [-0.    ,  0.1116, -0.1234, -0.    , -0.    ,  0.0808, -0.    ,\n",
       "        -0.    ,  0.0049, -0.    , -0.    , -0.0738],\n",
       "       [-0.    , -0.    , -0.    ,  0.0994, -0.    ,  0.    , -0.1398,\n",
       "        -0.    , -0.    ,  0.469 , -0.4285, -0.    ],\n",
       "       [-0.    ,  0.1061, -0.0921, -0.    , -0.    ,  0.0597, -0.    ,\n",
       "        -0.    , -0.0552, -0.    , -0.    , -0.0185],\n",
       "       [-0.0438, -0.1678,  0.    ,  0.    , -0.2957,  0.1424, -0.    ,\n",
       "         0.1971,  0.168 , -0.    , -0.    , -0.    ]])"
      ]
     },
     "execution_count": 407,
     "metadata": {},
     "output_type": "execute_result"
    }
   ],
   "source": [
    "dp.round(4)"
   ]
  },
  {
   "cell_type": "code",
   "execution_count": 413,
   "metadata": {},
   "outputs": [
    {
     "name": "stdout",
     "output_type": "stream",
     "text": [
      "Problem\n",
      "  Name                   : step_size       \n",
      "  Objective sense        : max             \n",
      "  Type                   : LO (linear optimization problem)\n",
      "  Constraints            : 144             \n",
      "  Cones                  : 0               \n",
      "  Scalar variables       : 2               \n",
      "  Matrix variables       : 0               \n",
      "  Integer variables      : 0               \n",
      "\n",
      "Optimizer started.\n",
      "Presolve started.\n",
      "Eliminator started.\n",
      "Freed constraints in eliminator : 0\n",
      "Eliminator terminated.\n",
      "Eliminator - tries                  : 1                 time                   : 0.00            \n",
      "Lin. dep.  - tries                  : 0                 time                   : 0.00            \n",
      "Lin. dep.  - number                 : 0               \n",
      "Presolve terminated. Time: 0.00    \n",
      "Optimizer terminated. Time: 0.03    \n",
      "\n",
      "\n",
      "Interior-point solution summary\n",
      "  Problem status  : PRIMAL_AND_DUAL_FEASIBLE\n",
      "  Solution status : OPTIMAL\n",
      "  Primal.  obj: 0.0000000000e+00    nrm: 1e+00    Viol.  con: 0e+00    var: 0e+00  \n",
      "  Dual.    obj: 0.0000000000e+00    nrm: 8e+07    Viol.  con: 0e+00    var: 0e+00  \n",
      "\n",
      "Basic solution summary\n",
      "  Problem status  : PRIMAL_AND_DUAL_FEASIBLE\n",
      "  Solution status : OPTIMAL\n",
      "  Primal.  obj: 0.0000000000e+00    nrm: 1e+00    Viol.  con: 0e+00    var: 0e+00  \n",
      "  Dual.    obj: 0.0000000000e+00    nrm: 8e+07    Viol.  con: 0e+00    var: 0e+00  \n"
     ]
    }
   ],
   "source": [
    "model = mf.Model('step_size')\n",
    "v = model.variable(1, dom.greaterThan(0))\n",
    "V = expr.reshape(expr.repeat(v, n*n, 0), [n, n])\n",
    "delta = expr.mulElm(V, dp)\n",
    "model.constraint(expr.add(x, delta), dom.greaterThan(0))\n",
    "model.objective(mf.ObjectiveSense.Maximize, v)\n",
    "model.setLogHandler(sys.stdout)\n",
    "model.solve()"
   ]
  },
  {
   "cell_type": "markdown",
   "metadata": {},
   "source": [
    "# eval"
   ]
  },
  {
   "cell_type": "code",
   "execution_count": null,
   "metadata": {},
   "outputs": [],
   "source": [
    "x_int, _ = extract_sol_rounding(x, param.A, param.B)"
   ]
  },
  {
   "cell_type": "code",
   "execution_count": 379,
   "metadata": {},
   "outputs": [],
   "source": [
    "def check_obj_val(x_sol):\n",
    "    _obj = A0.T.dot(x_sol).dot(B0).dot(x_sol.T).trace()\n",
    "    print(f'original obj {_obj}')\n",
    "    return _obj"
   ]
  },
  {
   "cell_type": "code",
   "execution_count": 381,
   "metadata": {},
   "outputs": [
    {
     "name": "stdout",
     "output_type": "stream",
     "text": [
      "original obj 9552.0\n"
     ]
    },
    {
     "data": {
      "text/plain": [
       "9552.0"
      ]
     },
     "execution_count": 381,
     "metadata": {},
     "output_type": "execute_result"
    }
   ],
   "source": [
    "check_obj_val(xol)"
   ]
  },
  {
   "cell_type": "code",
   "execution_count": 383,
   "metadata": {},
   "outputs": [
    {
     "data": {
      "text/plain": [
       "(0.060287558689144274, 0.060287558689143594)"
      ]
     },
     "execution_count": 383,
     "metadata": {},
     "output_type": "execute_result"
    }
   ],
   "source": [
    "nabla.original_obj(xol), nabla.obj(xol, mu)"
   ]
  }
 ],
 "metadata": {
  "kernelspec": {
   "display_name": "Python 3",
   "language": "python",
   "name": "python3"
  },
  "language_info": {
   "codemirror_mode": {
    "name": "ipython",
    "version": 3
   },
   "file_extension": ".py",
   "mimetype": "text/x-python",
   "name": "python",
   "nbconvert_exporter": "python",
   "pygments_lexer": "ipython3",
   "version": "3.7.3"
  }
 },
 "nbformat": 4,
 "nbformat_minor": 4
}
