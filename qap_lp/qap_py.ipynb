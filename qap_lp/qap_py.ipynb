{
 "cells": [
  {
   "cell_type": "code",
   "execution_count": 1,
   "metadata": {},
   "outputs": [],
   "source": [
    "%load_ext autoreload\n",
    "%autoreload 2"
   ]
  },
  {
   "cell_type": "code",
   "execution_count": 4,
   "metadata": {},
   "outputs": [],
   "source": [
    "from qap_lp.models import *\n",
    "from qap_lp.conf import *"
   ]
  },
  {
   "cell_type": "code",
   "execution_count": 6,
   "metadata": {},
   "outputs": [],
   "source": [
    "instance_name = 'esc16h'\n",
    "kwargs = {}\n",
    "msk_params = {**MSK_DEFAULT, **kwargs}\n",
    "qap_params = {**QAP_DEFAULT, **kwargs}\n",
    "# coefficients\n",
    "A0, B0 = parse(f'{QAP_INSTANCE}/{instance_name}.dat')\n",
    "\n",
    "# parse known solution\n",
    "_, best_obj, arr = parse_sol(f'{QAP_SOL}/{instance_name}.sln')\n",
    "\n",
    "param = QAPParam(A0, B0, best_obj, arr, **qap_params)"
   ]
  },
  {
   "cell_type": "markdown",
   "metadata": {},
   "source": [
    "## projection methods\n",
    "\n",
    "working on problem:\n",
    "### exact penalty\n",
    "\n",
    "$$\\begin{aligned}\n",
    " &\\min_X f  + \\mu\\cdot | \\textrm{tr}(XX^\\top) -  n| \\\\\n",
    " &= f  + \\mu\\cdot n - \\mu\\cdot \\textrm{tr}(XX^\\top)  \\\\\n",
    "\\mathbf{s.t.} & \\\\\n",
    "&Xe = X^\\top e = e \\\\\n",
    "&X \\ge 0 \\\\\n",
    "\\end{aligned}$$\n",
    "\n",
    "or\n",
    "\n",
    "$$\\begin{aligned}\n",
    "& \\min_X  f  + \\mu\\cdot n - \\mu\\cdot \\textrm{tr}(XX^\\top) - \\Lambda \\bullet X \\\\\n",
    "\\mathbf{s.t.} & \\\\\n",
    "&Xe = X^\\top e = e \\\\\n",
    "\\end{aligned}$$\n",
    "\n",
    "\n",
    "very likely to become a concave function, cannot be directly solved by conic solver.\n",
    "\n"
   ]
  },
  {
   "cell_type": "markdown",
   "metadata": {},
   "source": [
    "#### gradient projection\n",
    "\n",
    "- projection may be computed by mosek\n",
    "- or some other methods"
   ]
  },
  {
   "cell_type": "markdown",
   "metadata": {},
   "source": [
    "#### derivatives\n",
    "\n",
    "$$\\begin{aligned}\n",
    "& \\nabla_X F_\\mu  = A^\\top XB + AXB^\\top - 2\\mu X \\quad (-\\Lambda)\\\\\n",
    "& \\nabla_\\mu F_\\mu  = n - \\textrm{tr}(XX^\\top) \\\\\n",
    "& \\nabla_\\Lambda F_\\mu  = - X\n",
    "\\end{aligned}$$\n",
    "\n",
    "#### projected derivative\n",
    "\n",
    "$$\\begin{aligned}\n",
    "&\\min_D ||\\nabla F_\\mu + D ||_F^2  \\\\\n",
    "\\mathbf{s.t.} & \\\\\n",
    "&D e = D^\\top e = 0 \\\\ \n",
    "&D_{ij} \\ge 0 \\quad \\textsf{if: } X_{ij} = 0\\\\\n",
    "\\end{aligned}$$\n"
   ]
  },
  {
   "cell_type": "code",
   "execution_count": 22,
   "metadata": {},
   "outputs": [
    {
     "data": {
      "text/plain": [
       "(15.809523809523796, 170.98015873015873)"
      ]
     },
     "execution_count": 22,
     "metadata": {},
     "output_type": "execute_result"
    }
   ],
   "source": [
    "# unpacking\n",
    "A, B, n, m, e, E, ab = \\\n",
    "    param.A, param.B, param.n, param.m, param.e, param.E, param.ab\n",
    "# more\n",
    "mu = 10\n",
    "nabla = QAPDerivativeL2Penalty(param, mu)\n",
    "x = x0 = np.ones((n, n)) / n\n",
    "nabla.obj(param.xo), nabla.obj(x)"
   ]
  },
  {
   "cell_type": "code",
   "execution_count": 25,
   "metadata": {},
   "outputs": [
    {
     "name": "stderr",
     "output_type": "stream",
     "text": [
      "[qap.run.gradient_projection:INFO] [2020-09-27 21:53:29,275] =====iteration: 0====\n",
      "[qap.run.gradient_projection:INFO] [2020-09-27 21:53:29,276] gradient norm: 1.1155520951433573e-11\n",
      "[qap.run.gradient_projection:INFO] [2020-09-27 21:53:29,278] steps: 10, 155.21519219899707, 5602607020.514649\n",
      "[qap.run.gradient_projection:INFO] [2020-09-27 21:53:29,279] obj: (155.21519219899707, -15.764966531161662), gap: 8.817828422225727\n",
      "[qap.run.gradient_projection:INFO] [2020-09-27 21:53:29,279] trace deficiency: 15.308031264672607\n",
      "[qap.run.gradient_projection:INFO] [2020-09-27 21:53:29,684] =====iteration: 50====\n",
      "[qap.run.gradient_projection:INFO] [2020-09-27 21:53:29,685] gradient norm: 2.996702676280021\n",
      "[qap.run.gradient_projection:INFO] [2020-09-27 21:53:29,686] steps: 10, 147.75526723760038, 0.0003981762825331065\n",
      "[qap.run.gradient_projection:INFO] [2020-09-27 21:53:29,686] obj: (147.75526723760038, -0.04378549805568355), gap: 8.345965698763887\n",
      "[qap.run.gradient_projection:INFO] [2020-09-27 21:53:29,687] trace deficiency: 14.583004358176105\n",
      "[qap.run.gradient_projection:INFO] [2020-09-27 21:53:30,089] =====iteration: 100====\n",
      "[qap.run.gradient_projection:INFO] [2020-09-27 21:53:30,090] gradient norm: 5.593114325234736\n",
      "[qap.run.gradient_projection:INFO] [2020-09-27 21:53:30,091] steps: 10, 128.10894584415058, 0.0022254350128009777\n",
      "[qap.run.gradient_projection:INFO] [2020-09-27 21:53:30,092] obj: (128.10894584415058, -0.374279612308726), gap: 7.103276694961339\n",
      "[qap.run.gradient_projection:INFO] [2020-09-27 21:53:30,093] trace deficiency: 12.619831428533846\n"
     ]
    }
   ],
   "source": [
    "# unpacking solver parameters\n",
    "max_iter = kwargs.get('max_iteration', 1000)\n",
    "gd_method = kwargs.get('gd_method', msk_pd_on_dc)\n",
    "st_method = kwargs.get('st_method', msk_st)\n",
    "st_line_grids = kwargs.get('st_line_grids', 10)\n",
    "logging_interval = kwargs.get('logging_interval', 50)\n",
    "\n",
    "# unpacking params\n",
    "n = param.n\n",
    "xo = param.xo\n",
    "best_obj = nabla.obj(xo)\n",
    "\n",
    "# start iterations\n",
    "for i in range(max_iter):\n",
    "\n",
    "    _obj = nabla.obj(x)\n",
    "    d0 = nabla.partial_f(x)\n",
    "\n",
    "    # indices of active lower bound constraints\n",
    "    lb_x, lb_y = np.where(x <= 1e-4)\n",
    "    lb_x = lb_x.tolist()\n",
    "    lb_y = lb_y.tolist()\n",
    "\n",
    "    # do projection\n",
    "    dp, m, D, constrs_lb = gd_method(\n",
    "            param,\n",
    "            d0,\n",
    "            (lb_x, lb_y),\n",
    "    )\n",
    "\n",
    "    # evaluate norm of the projected gradient\n",
    "    ndf = np.abs(dp).max()\n",
    "\n",
    "    # fetch maximum stepsize\n",
    "    stp = st_method(dp, x, param)\n",
    "    if i % logging_interval == 0:\n",
    "        logger.info(f'=====iteration: {i}====')\n",
    "        logger.info(f\"gradient norm: {ndf}\")\n",
    "\n",
    "    if stp <= 1e-6:\n",
    "        #\n",
    "        #         try:\n",
    "        #             idx = constrs_lb.dual().argmax()\n",
    "        #             lb_x.pop(idx)\n",
    "        #             lb_y.pop(idx)\n",
    "        #         except Exception as e:\n",
    "        #             logging.exception(e)\n",
    "        #             lb_x, lb_y = np.where(x <= 1e-5)\n",
    "        #             lb_x = lb_x.tolist()\n",
    "        #             lb_y = lb_y.tolist()\n",
    "        #         logger.info(f\"change active set @{i}\")\n",
    "        #         dp, m, D, constrs_lb = pd_on_dc(\n",
    "        #             param, d0,\n",
    "        #             (lb_x, lb_y)\n",
    "        #         )\n",
    "        break\n",
    "\n",
    "    objs = [(i, nabla.obj(x + i / st_line_grids * stp * dp))\n",
    "                    for i in range(1, st_line_grids + 1)]\n",
    "    i_s, vs = min(objs, key=lambda x: x[-1])\n",
    "    x = x + i_s / st_line_grids * stp * dp\n",
    "    if i % logging_interval == 0:\n",
    "        logger.info(f\"steps: {i_s}, {vs}, {stp}\")\n",
    "        # update solution\n",
    "        logger.info(f\"obj: {vs, vs - _obj}, gap: {(vs - best_obj)/best_obj}\")\n",
    "        logger.info(f\"trace deficiency: {n - x.dot(x.T).trace()}\")\n"
   ]
  },
  {
   "cell_type": "code",
   "execution_count": 28,
   "metadata": {},
   "outputs": [
    {
     "data": {
      "text/plain": [
       "0.0"
      ]
     },
     "execution_count": 28,
     "metadata": {},
     "output_type": "execute_result"
    }
   ],
   "source": [
    "ndf"
   ]
  },
  {
   "cell_type": "markdown",
   "metadata": {},
   "source": [
    "#### project point onto $D_n$\n",
    "\n",
    "- projection may be computed by mosek\n",
    "- or some other methods"
   ]
  },
  {
   "cell_type": "code",
   "execution_count": null,
   "metadata": {},
   "outputs": [],
   "source": [
    "def proj_on_dn(param, x, **kwargs):\n",
    "    A, B, n, m, e, E, ab = param.A, param.B, param.n, param.m, param.e, param.E, param.ab\n",
    "    \n",
    "    model = mf.Model('projected_on_Dn')\n",
    "    D = model.variable(\"d\", [*A.shape], dom.inRange(0, 1))\n",
    "    v = model.variable(1, dom.greaterThan(0.0))\n",
    "    \n",
    "    # m = vec(D - dF)\n",
    "    m = expr.flatten(expr.sub(D, x))\n",
    "    model.constraint(expr.sum(D, 0), dom.equalsTo(1))\n",
    "    model.constraint(expr.sum(D, 1), dom.equalsTo(1))\n",
    "    model.constraint(expr.vstack(v, m), dom.inQCone())\n",
    "    model.objective(mf.ObjectiveSense.Minimize, v)\n",
    "\n",
    "    # set params\n",
    "    userCallback = set_mosek_model_params(model, **kwargs)\n",
    "    model.setLogHandler(None)\n",
    "    model.solve()\n",
    "\n",
    "    model.flushSolutions()\n",
    "    D_sol = D.level().reshape(A.shape)\n",
    "    return D_sol"
   ]
  },
  {
   "cell_type": "code",
   "execution_count": null,
   "metadata": {
    "scrolled": true
   },
   "outputs": [],
   "source": [
    "def point_proj_naive():\n",
    "    # point projection\n",
    "    # - stuck at an corner point, vertex.\n",
    "    # - once reached, it stays.\n",
    "    for i in range(5):\n",
    "        obj = nabla.obj(x, mu)\n",
    "        print(f'====={i }====')\n",
    "        alpha = 1/(i+1)\n",
    "        d0 = nabla.partial_f(x, mu)\n",
    "        x0 = x - d0 * alpha0\n",
    "        xp = proj_on_dn(param, x0)\n",
    "    #     # direction\n",
    "    #     dx = xp - x\n",
    "    #     st = gt_min(x/dx)\n",
    "    #     print(f\"stepsize: \", alpha, st)\n",
    "    #     x -=  st * alpha * dx\n",
    "        x = xp\n",
    "        print(f\"obj: \", nabla.original_obj(x), nabla.obj(x, mu), nabla.obj(x, mu) - obj)\n",
    "        print(f\"stopping: \", n - x.dot(x.T).trace())\n",
    "        print(x.round(3).min())\n",
    "        print(np.linalg.norm(d0))"
   ]
  },
  {
   "cell_type": "code",
   "execution_count": null,
   "metadata": {},
   "outputs": [],
   "source": [
    "?constrs_lb"
   ]
  },
  {
   "cell_type": "code",
   "execution_count": null,
   "metadata": {},
   "outputs": [],
   "source": [
    "idx = constrs_lb.dual().argmax()"
   ]
  },
  {
   "cell_type": "code",
   "execution_count": null,
   "metadata": {},
   "outputs": [],
   "source": [
    "x.round(4)"
   ]
  },
  {
   "cell_type": "code",
   "execution_count": null,
   "metadata": {},
   "outputs": [],
   "source": []
  },
  {
   "cell_type": "code",
   "execution_count": null,
   "metadata": {},
   "outputs": [],
   "source": [
    "dp.round(4)"
   ]
  },
  {
   "cell_type": "markdown",
   "metadata": {},
   "source": [
    "# eval"
   ]
  },
  {
   "cell_type": "code",
   "execution_count": null,
   "metadata": {},
   "outputs": [],
   "source": [
    "x_int, _ = extract_sol_rounding(x, param.A, param.B)"
   ]
  },
  {
   "cell_type": "code",
   "execution_count": null,
   "metadata": {},
   "outputs": [],
   "source": [
    "def check_obj_val(x_sol):\n",
    "    _obj = A0.T.dot(x_sol).dot(B0).dot(x_sol.T).trace()\n",
    "    print(f'original obj {_obj}')\n",
    "    return _obj"
   ]
  },
  {
   "cell_type": "code",
   "execution_count": null,
   "metadata": {},
   "outputs": [],
   "source": [
    "check_obj_val(x)"
   ]
  },
  {
   "cell_type": "code",
   "execution_count": null,
   "metadata": {},
   "outputs": [],
   "source": [
    "nabla.original_obj(xol), nabla.obj(xol, mu)"
   ]
  }
 ],
 "metadata": {
  "kernelspec": {
   "display_name": "Python 3",
   "language": "python",
   "name": "python3"
  },
  "language_info": {
   "codemirror_mode": {
    "name": "ipython",
    "version": 3
   },
   "file_extension": ".py",
   "mimetype": "text/x-python",
   "name": "python",
   "nbconvert_exporter": "python",
   "pygments_lexer": "ipython3",
   "version": "3.7.6"
  }
 },
 "nbformat": 4,
 "nbformat_minor": 4
}
